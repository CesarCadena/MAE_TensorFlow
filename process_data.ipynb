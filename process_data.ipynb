{
 "cells": [
  {
   "cell_type": "code",
   "execution_count": 8,
   "metadata": {
    "collapsed": true
   },
   "outputs": [],
   "source": [
    "# %load process_data.py\n",
    "# this is process_data function.\n",
    "# need to feed flag :'training','test','validation' as string\n",
    "#return data dictionary \n",
    "#example:Data=process_data('training') ,then Red_input=Data['Red'] as a [batch_size,1080] array\n",
    "# data in the directory '../MAE_KITTI/data_18x60/'\n",
    "def process_data(flag):\n",
    "    \n",
    "    import tensorflow as tf\n",
    "    import numpy as np\n",
    "    import pandas as pd\n",
    "    import scipy.io\n",
    "    \n",
    "    data_index=pd.read_csv('../MAE_KITTI/kitti_split.txt',header=None)\n",
    "    \n",
    "    if flag=='validation':\n",
    "        input_index=data_index[59:61]\n",
    "    elif flag=='training':\n",
    "        input_index=data_index[1:29]\n",
    "    elif flag=='test':\n",
    "        input_index=data_index[31:58]\n",
    "    else:\n",
    "        print('error')\n",
    "        \n",
    "    foldernamme='../MAE_KITTI/data_18x60/'\n",
    "    input_index=input_index.values\n",
    "    xcr1=np.empty((1080,0))\n",
    "    xcg1=np.empty((1080,0))\n",
    "    xcb1=np.empty((1080,0))\n",
    "    xid1=np.empty((1080,0))\n",
    "    dmask1=np.empty((1080,0))\n",
    "    Ground1=np.empty((1080,0))\n",
    "    Objects1=np.empty((1080,0))\n",
    "    Building1=np.empty((1080,0))\n",
    "    Vegetation1=np.empty((1080,0))\n",
    "    Sky1=np.empty((1080,0))\n",
    "    xcr2=np.empty((1080,0))\n",
    "    xcg2=np.empty((1080,0))\n",
    "    xcb2=np.empty((1080,0))\n",
    "    xid2=np.empty((1080,0))\n",
    "    dmask2=np.empty((1080,0))\n",
    "    Ground2=np.empty((1080,0))\n",
    "    Objects2=np.empty((1080,0))\n",
    "    Building2=np.empty((1080,0))\n",
    "    Vegetation2=np.empty((1080,0))\n",
    "    Sky2=np.empty((1080,0))\n",
    "    \n",
    "    for i in range(len(input_index)):\n",
    "        name=input_index[i][0]\n",
    "        RGB1name=foldernamme+'data_kitti_im02_'+name+'_18x60.mat'\n",
    "        RGB2name=foldernamme+'data_kitti_im03_'+name+'_18x60.mat'\n",
    "    \n",
    "        Depth1name=foldernamme+'data_kitti_InvDepth02_'+name+'_18x60'\n",
    "        Depth2name=foldernamme+'data_kitti_InvDepth03_'+name+'_18x60'\n",
    "    \n",
    "        Sem1name=foldernamme+'data_kitti_seg02_'+name+'_18x60'\n",
    "        Sem2name=foldernamme+'data_kitti_seg03_'+name+'_18x60'\n",
    "\n",
    "        mat1=scipy.io.loadmat(RGB1name)\n",
    "        xcr1=np.append(xcr1,mat1['xcr'],axis=1)\n",
    "        xcg1=np.append(xcg1,mat1['xcg'],axis=1)\n",
    "        xcb1=np.append(xcb1,mat1['xcb'],axis=1)\n",
    "        mat2=scipy.io.loadmat(RGB2name)\n",
    "        xcr2=np.append(xcr2,mat2['xcr'],axis=1)\n",
    "        xcg2=np.append(xcg2,mat2['xcg'],axis=1)\n",
    "        xcb2=np.append(xcb2,mat2['xcb'],axis=1)\n",
    "    \n",
    "    \n",
    "        matd1=scipy.io.loadmat(Depth1name)\n",
    "        xid1=np.append(xid1,matd1['xid'],axis=1)\n",
    "        dmask1=np.append(dmask1,matd1['xmask'],axis=1)\n",
    "        matd2=scipy.io.loadmat(Depth2name)\n",
    "        xid2=np.append(xid2,matd2['xid'],axis=1)\n",
    "        dmask2=np.append(dmask2,matd1['xmask'],axis=1)\n",
    "    \n",
    "    \n",
    "        mats1=scipy.io.loadmat(Sem1name)\n",
    "        Ground1=np.append(Ground1,(mats1['xss']==1).astype(int),axis=1)\n",
    "        Objects1=np.append(Objects1,(mats1['xss']==2).astype(int),axis=1)\n",
    "        Building1=np.append(Building1,(mats1['xss']==3).astype(int),axis=1)\n",
    "        Vegetation1=np.append(Vegetation1,(mats1['xss']==4).astype(int),axis=1)\n",
    "        Sky1=np.append(Sky1,(mats1['xss']==5).astype(int),axis=1)\n",
    "    \n",
    "        mats2=scipy.io.loadmat(Sem2name)\n",
    "        Ground2=np.append(Ground2,(mats2['xss']==1).astype(int),axis=1)\n",
    "        Objects2=np.append(Objects2,(mats2['xss']==2).astype(int),axis=1)\n",
    "        Building2=np.append(Building2,(mats2['xss']==3).astype(int),axis=1)\n",
    "        Vegetation2=np.append(Vegetation2,(mats2['xss']==4).astype(int),axis=1)\n",
    "        Sky2=np.append(Sky2,(mats2['xss']==5).astype(int),axis=1)\n",
    "        \n",
    "        \n",
    "    xcr1=np.transpose(xcr1)\n",
    "    xcg1=np.transpose(xcg1)\n",
    "    xcb1=np.transpose(xcb1)\n",
    "    xid1=np.transpose(xid1)\n",
    "    dmask1=np.transpose(dmask1)\n",
    "    Ground1=np.transpose(Ground1)\n",
    "    Objects1=np.transpose(Objects1)\n",
    "    Building1=np.transpose(Building1)\n",
    "    Vegetation1=np.transpose(Vegetation1)\n",
    "    Sky1=np.transpose(Sky1)\n",
    "\n",
    "    xcr2=np.transpose(xcr2)\n",
    "    xcg2=np.transpose(xcg2)\n",
    "    xcb2=np.transpose(xcb2)\n",
    "    xid2=np.transpose(xid2)\n",
    "    dmask2=np.transpose(dmask2)\n",
    "    Ground2=np.transpose(Ground2)\n",
    "    Objects2=np.transpose(Objects2)\n",
    "    Building2=np.transpose(Building2)\n",
    "    Vegetation2=np.transpose(Vegetation2)\n",
    "    Sky2=np.transpose(Sky2)\n",
    "    \n",
    "\n",
    "    Depth_data=np.concatenate((xid1,xid2),axis=0)\n",
    "    Depthmask_data=np.concatenate((dmask1,dmask2),axis=0)\n",
    "    Red_data=np.concatenate((xcr1,xcr2),axis=0)/255.0\n",
    "    Green_data=np.concatenate((xcg1,xcg2),axis=0)/255.0\n",
    "    Blue_data=np.concatenate((xcb1,xcb2),axis=0)/255.0\n",
    "    Ground_data=np.concatenate((Ground1,Ground2),axis=0)\n",
    "    Objects_data=np.concatenate((Objects1,Objects2),axis=0)\n",
    "    Building_data=np.concatenate((Building1,Building2),axis=0)\n",
    "    Vegetation_data=np.concatenate((Vegetation1,Vegetation2),axis=0)\n",
    "    Sky_data=np.concatenate((Sky1,Sky2),axis=0)   \n",
    "    \n",
    "    return {'Red':Red_data,\n",
    "            'Green':Green_data,\n",
    "            'Blue':Blue_data,\n",
    "            'Depth':Depth_data,\n",
    "            'Depthmask':Depthmask_data,\n",
    "            'Ground':Ground_data,\n",
    "            'Objects':Objects_data,\n",
    "            'Building':Building_data,\n",
    "            'Vegetation':Vegetation_data,\n",
    "            'Sky':Sky_data}"
   ]
  },
  {
   "cell_type": "code",
   "execution_count": 9,
   "metadata": {},
   "outputs": [],
   "source": [
    "import tensorflow as tf\n",
    "import numpy as np\n",
    "import pandas as pd\n",
    "import scipy.io"
   ]
  },
  {
   "cell_type": "code",
   "execution_count": 10,
   "metadata": {},
   "outputs": [
    {
     "data": {
      "text/plain": [
       "'/Users/yi/Desktop/yi/project/bitbucket/mae_tensorflow'"
      ]
     },
     "execution_count": 10,
     "metadata": {},
     "output_type": "execute_result"
    }
   ],
   "source": [
    "pwd"
   ]
  },
  {
   "cell_type": "code",
   "execution_count": 11,
   "metadata": {},
   "outputs": [],
   "source": [
    "dict_test=process_data('test')"
   ]
  },
  {
   "cell_type": "markdown",
   "metadata": {},
   "source": [
    "# RGB"
   ]
  },
  {
   "cell_type": "code",
   "execution_count": 39,
   "metadata": {},
   "outputs": [
    {
     "data": {
      "text/plain": [
       "(37634, 1080)"
      ]
     },
     "execution_count": 39,
     "metadata": {},
     "output_type": "execute_result"
    }
   ],
   "source": [
    "dict_train['Red'].shape"
   ]
  },
  {
   "cell_type": "code",
   "execution_count": 40,
   "metadata": {
    "collapsed": true
   },
   "outputs": [],
   "source": [
    "Red=dict_train['Red']\n",
    "Green=dict_train['Green']\n",
    "Blue=dict_train['Blue']"
   ]
  },
  {
   "cell_type": "code",
   "execution_count": 44,
   "metadata": {
    "collapsed": true
   },
   "outputs": [],
   "source": [
    "RGB=np.dstack((Red,Green,Blue))"
   ]
  },
  {
   "cell_type": "code",
   "execution_count": 45,
   "metadata": {},
   "outputs": [
    {
     "data": {
      "text/plain": [
       "(37634, 1080, 3)"
      ]
     },
     "execution_count": 45,
     "metadata": {},
     "output_type": "execute_result"
    }
   ],
   "source": [
    "RGB.shape"
   ]
  },
  {
   "cell_type": "code",
   "execution_count": 46,
   "metadata": {
    "collapsed": true
   },
   "outputs": [],
   "source": [
    "RGB=np.reshape(RGB,(-1,60,18,3))"
   ]
  },
  {
   "cell_type": "code",
   "execution_count": 49,
   "metadata": {
    "collapsed": true
   },
   "outputs": [],
   "source": [
    "RGB=np.transpose(RGB,(0,2,1,3))"
   ]
  },
  {
   "cell_type": "code",
   "execution_count": 55,
   "metadata": {},
   "outputs": [
    {
     "data": {
      "text/plain": [
       "<matplotlib.image.AxesImage at 0x182c582860>"
      ]
     },
     "execution_count": 55,
     "metadata": {},
     "output_type": "execute_result"
    },
    {
     "data": {
      "image/png": "[encoded data removed]",
      "text/plain": [
       "<matplotlib.figure.Figure at 0x182c5054e0>"
      ]
     },
     "metadata": {},
     "output_type": "display_data"
    }
   ],
   "source": [
    "plt.imshow(RGB[17000])"
   ]
  },
  {
   "cell_type": "code",
   "execution_count": 56,
   "metadata": {
    "collapsed": true
   },
   "outputs": [],
   "source": [
    "np.save(\"../Data_test/rgb_data.npy\",RGB)"
   ]
  },
  {
   "cell_type": "markdown",
   "metadata": {},
   "source": [
    "# Depth"
   ]
  },
  {
   "cell_type": "code",
   "execution_count": 15,
   "metadata": {},
   "outputs": [
    {
     "data": {
      "text/plain": [
       "(37626, 1080)"
      ]
     },
     "execution_count": 15,
     "metadata": {},
     "output_type": "execute_result"
    }
   ],
   "source": [
    "dict_test['Depth'].shape"
   ]
  },
  {
   "cell_type": "code",
   "execution_count": 62,
   "metadata": {
    "collapsed": true
   },
   "outputs": [],
   "source": [
    "Depth=dict_train['Depth']\n",
    "Mask=dict_train['Depthmask']"
   ]
  },
  {
   "cell_type": "code",
   "execution_count": 63,
   "metadata": {},
   "outputs": [
    {
     "data": {
      "text/plain": [
       "(37626, 1080)"
      ]
     },
     "execution_count": 63,
     "metadata": {},
     "output_type": "execute_result"
    }
   ],
   "source": [
    "Depth.shape"
   ]
  },
  {
   "cell_type": "code",
   "execution_count": 64,
   "metadata": {
    "collapsed": true
   },
   "outputs": [],
   "source": [
    "Depth=np.reshape(Depth,(-1,60,18,1))"
   ]
  },
  {
   "cell_type": "code",
   "execution_count": 65,
   "metadata": {
    "collapsed": true
   },
   "outputs": [],
   "source": [
    "Mask=np.reshape(Mask,(-1,60,18,1))"
   ]
  },
  {
   "cell_type": "code",
   "execution_count": 68,
   "metadata": {
    "collapsed": true
   },
   "outputs": [],
   "source": [
    "Depth=Depth*Mask"
   ]
  },
  {
   "cell_type": "code",
   "execution_count": 69,
   "metadata": {
    "collapsed": true
   },
   "outputs": [],
   "source": [
    "Depth=np.transpose(Depth,(0,2,1,3))\n",
    "Mask=np.transpose(Mask,(0,2,1,3))"
   ]
  },
  {
   "cell_type": "code",
   "execution_count": 77,
   "metadata": {},
   "outputs": [
    {
     "data": {
      "text/plain": [
       "(37626, 18, 60, 1)"
      ]
     },
     "execution_count": 77,
     "metadata": {},
     "output_type": "execute_result"
    }
   ],
   "source": [
    "Depth.shape"
   ]
  },
  {
   "cell_type": "code",
   "execution_count": 75,
   "metadata": {
    "collapsed": true
   },
   "outputs": [],
   "source": [
    "np.save(\"../Data_test/depth_data.npy\",Depth)\n",
    "np.save(\"../Data_test/depthmask_data.npy\",Mask)"
   ]
  },
  {
   "cell_type": "markdown",
   "metadata": {},
   "source": [
    "# Semantic "
   ]
  },
  {
   "cell_type": "code",
   "execution_count": 95,
   "metadata": {
    "collapsed": true
   },
   "outputs": [],
   "source": [
    "Ground=dict_train['Ground']\n",
    "Objects=dict_train['Objects']\n",
    "Building=dict_train['Building']\n",
    "Vegetation=dict_train['Vegetation']\n",
    "Sky=dict_train['Sky']"
   ]
  },
  {
   "cell_type": "code",
   "execution_count": 96,
   "metadata": {
    "collapsed": true
   },
   "outputs": [],
   "source": [
    "Ground=np.reshape(Ground,(-1,60,18,1))\n",
    "Ground=np.transpose(Ground,(0,2,1,3))\n",
    "Objects=np.reshape(Objects,(-1,60,18,1))\n",
    "Objects=np.transpose(Objects,(0,2,1,3))\n",
    "Building=np.reshape(Building,(-1,60,18,1))\n",
    "Building=np.transpose(Building,(0,2,1,3))\n",
    "Vegetation=np.reshape(Vegetation,(-1,60,18,1))\n",
    "Vegetation=np.transpose(Vegetation,(0,2,1,3))\n",
    "Sky=np.reshape(Sky,(-1,60,18,1))\n",
    "Sky=np.transpose(Sky,(0,2,1,3))"
   ]
  },
  {
   "cell_type": "code",
   "execution_count": 97,
   "metadata": {
    "collapsed": true
   },
   "outputs": [],
   "source": [
    "Sem=np.concatenate( (Ground,Objects,Building,Vegetation,Sky),axis=3 )"
   ]
  },
  {
   "cell_type": "code",
   "execution_count": 98,
   "metadata": {},
   "outputs": [
    {
     "data": {
      "text/plain": [
       "(37634, 18, 60, 5)"
      ]
     },
     "execution_count": 98,
     "metadata": {},
     "output_type": "execute_result"
    }
   ],
   "source": [
    "Sem.shape"
   ]
  },
  {
   "cell_type": "code",
   "execution_count": 99,
   "metadata": {},
   "outputs": [
    {
     "data": {
      "text/plain": [
       "<matplotlib.image.AxesImage at 0x182cf47390>"
      ]
     },
     "execution_count": 99,
     "metadata": {},
     "output_type": "execute_result"
    },
    {
     "data": {
      "image/png": "[encoded data removed]",
      "text/plain": [
       "<matplotlib.figure.Figure at 0x182d1b06a0>"
      ]
     },
     "metadata": {},
     "output_type": "display_data"
    }
   ],
   "source": [
    "plt.imshow(np.argmax(Sem[0],axis=2))"
   ]
  },
  {
   "cell_type": "code",
   "execution_count": 100,
   "metadata": {
    "collapsed": true
   },
   "outputs": [],
   "source": [
    "np.save(\"../Data_test/sem_data.npy\",Sem)"
   ]
  },
  {
   "cell_type": "markdown",
   "metadata": {},
   "source": [
    "#  Finish implementing "
   ]
  },
  {
   "cell_type": "markdown",
   "metadata": {
    "collapsed": true
   },
   "source": [
    "# testing "
   ]
  },
  {
   "cell_type": "code",
   "execution_count": 2,
   "metadata": {},
   "outputs": [
    {
     "name": "stderr",
     "output_type": "stream",
     "text": [
      "/Users/yi/anaconda3/lib/python3.6/site-packages/h5py/__init__.py:34: FutureWarning: Conversion of the second argument of issubdtype from `float` to `np.floating` is deprecated. In future, it will be treated as `np.float64 == np.dtype(float).type`.\n",
      "  from ._conv import register_converters as _register_converters\n"
     ]
    }
   ],
   "source": [
    "import tensorflow as tf\n",
    "import numpy as np\n",
    "import pandas as pd\n",
    "import scipy.io\n",
    "import matplotlib.pyplot as plt\n",
    "%matplotlib inline "
   ]
  },
  {
   "cell_type": "markdown",
   "metadata": {},
   "source": [
    "# Depth"
   ]
  },
  {
   "cell_type": "code",
   "execution_count": 4,
   "metadata": {},
   "outputs": [],
   "source": [
    "x=np.load(\"../Data_test/depth_data.npy\")"
   ]
  },
  {
   "cell_type": "code",
   "execution_count": 5,
   "metadata": {},
   "outputs": [
    {
     "data": {
      "text/plain": [
       "(37626, 18, 60, 1)"
      ]
     },
     "execution_count": 5,
     "metadata": {},
     "output_type": "execute_result"
    }
   ],
   "source": [
    "x.shape"
   ]
  },
  {
   "cell_type": "code",
   "execution_count": 6,
   "metadata": {},
   "outputs": [
    {
     "data": {
      "text/plain": [
       "<matplotlib.image.AxesImage at 0x1829bbfef0>"
      ]
     },
     "execution_count": 6,
     "metadata": {},
     "output_type": "execute_result"
    },
    {
     "data": {
      "image/png": "[encoded data removed]",
      "text/plain": [
       "<matplotlib.figure.Figure at 0x1829b176a0>"
      ]
     },
     "metadata": {},
     "output_type": "display_data"
    }
   ],
   "source": [
    "plt.imshow(x[0,:,:,0],cmap='jet')"
   ]
  },
  {
   "cell_type": "code",
   "execution_count": 7,
   "metadata": {
    "collapsed": true
   },
   "outputs": [],
   "source": [
    "x1=np.load(\"../Data_test/depthmask_data.npy\")"
   ]
  },
  {
   "cell_type": "code",
   "execution_count": 8,
   "metadata": {},
   "outputs": [
    {
     "data": {
      "text/plain": [
       "(37626, 18, 60, 1)"
      ]
     },
     "execution_count": 8,
     "metadata": {},
     "output_type": "execute_result"
    }
   ],
   "source": [
    "x1.shape"
   ]
  },
  {
   "cell_type": "code",
   "execution_count": 9,
   "metadata": {},
   "outputs": [
    {
     "data": {
      "text/plain": [
       "<matplotlib.image.AxesImage at 0x1829ca50b8>"
      ]
     },
     "execution_count": 9,
     "metadata": {},
     "output_type": "execute_result"
    },
    {
     "data": {
      "image/png": "[encoded data removed]",
      "text/plain": [
       "<matplotlib.figure.Figure at 0x1829c01358>"
      ]
     },
     "metadata": {},
     "output_type": "display_data"
    }
   ],
   "source": [
    "plt.imshow(x1[0,:,:,0])"
   ]
  },
  {
   "cell_type": "markdown",
   "metadata": {},
   "source": [
    "# Semantic labels"
   ]
  },
  {
   "cell_type": "code",
   "execution_count": 10,
   "metadata": {
    "collapsed": true
   },
   "outputs": [],
   "source": [
    "x2=np.load(\"../Data_test/sem_data.npy\")"
   ]
  },
  {
   "cell_type": "code",
   "execution_count": 11,
   "metadata": {},
   "outputs": [
    {
     "data": {
      "text/plain": [
       "<matplotlib.image.AxesImage at 0x1829c35160>"
      ]
     },
     "execution_count": 11,
     "metadata": {},
     "output_type": "execute_result"
    },
    {
     "data": {
      "image/png": "[encoded data removed]",
      "text/plain": [
       "<matplotlib.figure.Figure at 0x1829c67ba8>"
      ]
     },
     "metadata": {},
     "output_type": "display_data"
    }
   ],
   "source": [
    "plt.imshow(np.argmax(x2[0],axis=2))"
   ]
  },
  {
   "cell_type": "markdown",
   "metadata": {},
   "source": [
    "# RGB"
   ]
  },
  {
   "cell_type": "code",
   "execution_count": 12,
   "metadata": {
    "collapsed": true
   },
   "outputs": [],
   "source": [
    "x3=np.load(\"../Data_test/rgb_data.npy\")"
   ]
  },
  {
   "cell_type": "code",
   "execution_count": 13,
   "metadata": {},
   "outputs": [
    {
     "data": {
      "text/plain": [
       "<matplotlib.image.AxesImage at 0x1829d133c8>"
      ]
     },
     "execution_count": 13,
     "metadata": {},
     "output_type": "execute_result"
    },
    {
     "data": {
      "image/png": "[encoded data removed]",
      "text/plain": [
       "<matplotlib.figure.Figure at 0x1829cb0ba8>"
      ]
     },
     "metadata": {},
     "output_type": "display_data"
    }
   ],
   "source": [
    "plt.imshow(x3[0])"
   ]
  },
  {
   "cell_type": "markdown",
   "metadata": {},
   "source": [
    "# random test "
   ]
  },
  {
   "cell_type": "code",
   "execution_count": 17,
   "metadata": {
    "collapsed": true
   },
   "outputs": [],
   "source": [
    "matrix=np.random.rand(3,3,3)"
   ]
  },
  {
   "cell_type": "code",
   "execution_count": 18,
   "metadata": {},
   "outputs": [
    {
     "data": {
      "text/plain": [
       "array([[[0.65787194, 0.09448188, 0.24409059],\n",
       "        [0.31906101, 0.60425121, 0.8158153 ],\n",
       "        [0.38732447, 0.42145297, 0.02271363]],\n",
       "\n",
       "       [[0.80511303, 0.01854845, 0.521351  ],\n",
       "        [0.33355116, 0.84655273, 0.13262765],\n",
       "        [0.06743106, 0.7446872 , 0.30396007]],\n",
       "\n",
       "       [[0.31883744, 0.50939811, 0.39351072],\n",
       "        [0.82794174, 0.17173298, 0.7896305 ],\n",
       "        [0.19046202, 0.07473024, 0.40314463]]])"
      ]
     },
     "execution_count": 18,
     "metadata": {},
     "output_type": "execute_result"
    }
   ],
   "source": [
    "matrix"
   ]
  },
  {
   "cell_type": "code",
   "execution_count": 19,
   "metadata": {
    "collapsed": true
   },
   "outputs": [],
   "source": [
    "index=matrix>0.2"
   ]
  },
  {
   "cell_type": "code",
   "execution_count": 21,
   "metadata": {
    "collapsed": true
   },
   "outputs": [],
   "source": [
    "matrix_2=matrix[index]"
   ]
  }
 ],
 "metadata": {
  "kernelspec": {
   "display_name": "Python 3",
   "language": "python",
   "name": "python3"
  },
  "language_info": {
   "codemirror_mode": {
    "name": "ipython",
    "version": 3
   },
   "file_extension": ".py",
   "mimetype": "text/x-python",
   "name": "python",
   "nbconvert_exporter": "python",
   "pygments_lexer": "ipython3",
   "version": "3.6.3"
  }
 },
 "nbformat": 4,
 "nbformat_minor": 2
}
