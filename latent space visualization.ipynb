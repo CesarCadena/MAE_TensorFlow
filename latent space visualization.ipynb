{
 "cells": [
  {
   "cell_type": "code",
   "execution_count": 121,
   "metadata": {},
   "outputs": [],
   "source": [
    "# %load VAE_full_test.py\n",
    "#This is VAE_depth script \n",
    "import numpy as np\n",
    "import tensorflow as tf\n",
    "import matplotlib.pyplot as plt\n",
    "from depth_error import RMSE,ABSR\n",
    "np.random.seed(0)\n",
    "tf.set_random_seed(0)\n",
    "config=tf.ConfigProto()\n",
    "config.gpu_options.per_process_gpu_memory_fraction=0.4\n",
    "tf.reset_default_graph()\n",
    "batch_size=1\n",
    "num_epochs=100\n",
    "depthpath=\"vae_models/depth_\"+str(num_epochs)+\"_epochs/model\"\n",
    "rgbpath=\"vae_models/rgb_\"+str(num_epochs)+\"_epochs/model\"\n",
    "sempath=\"vae_models/sem_\"+str(num_epochs)+\"_epochs/model\"\n",
    "fullpath=\"vae_models/full_\"+str(num_epochs)+\"_epochs/model\"\n",
    "\n",
    "\n",
    "\n",
    "def xavier_init(fan_in, fan_out, constant=1): \n",
    "\t\"\"\" Xavier initialization of network weights\"\"\"\n",
    "\t# https://stackoverflow.com/questions/33640581/how-to-do-xavier-initialization-on-tensorflow\n",
    "\tlow = -constant*np.sqrt(6.0/(fan_in + fan_out)) \n",
    "\thigh = constant*np.sqrt(6.0/(fan_in + fan_out))\n",
    "\t# return tensors\n",
    "\treturn tf.random_uniform((fan_in, fan_out), #  shape of the weights\n",
    "\t\t\t\t\t\t\t minval=low, maxval=high, # here is the range \n",
    "\t\t\t\t\t\t\t dtype=tf.float32) # here is the type\n",
    "\n",
    "\n",
    "class VariationalAutoencoder(object):\n",
    "\t\"\"\" Based on See \"Auto-Encoding Variational Bayes\" by Kingma and Welling\n",
    "\t\"\"\"\n",
    "\tdef __init__(self, network_architecture,\n",
    "\t\t\t\t transfer_fct=tf.nn.softplus,learning_rate=1e-3,batch_size=batch_size):\n",
    "\t\tself.network_architecture=network_architecture# which is a dictionary \n",
    "\t\tself.transfer_fct=transfer_fct\n",
    "\t\tself.learning_rate=learning_rate\n",
    "\t\tself.batch_size=batch_size\n",
    "\t\t# tf Graph input\n",
    "\t\tself.x=tf.placeholder(tf.float32,[None, network_architecture[\"n_input\"]])\n",
    "\t\t# Create auotencoder \n",
    "\t\tself.create_network()\n",
    "\t\t# define loss function based on variational upper bound \n",
    "\t\t# and corresponding optimizer \n",
    "\t\tself.create_loss_optimizer()\n",
    "\t\t#self.saver=tf.train.Saver()\n",
    "\n",
    "\n",
    "\tdef initialize_weights(self, n_hidden_recog_1, n_hidden_recog_2, \n",
    "\t\t\t\t\t\t\tn_hidden_gener_1,  n_hidden_gener_2, \n",
    "\t\t\t\t\t\t\tn_input, n_z):\n",
    "\t\t# create a dictionary of tensor variables \n",
    "\t\tall_weights = dict()\n",
    "\t\t# recognition  network\n",
    "\t\tall_weights['weights_recog'] = {\n",
    "\t\t\t'h1': tf.Variable(xavier_init(n_input, n_hidden_recog_1)),\n",
    "\t\t\t'h2': tf.Variable(xavier_init(n_hidden_recog_1, n_hidden_recog_2)),\n",
    "\t\t\t'out_mean': tf.Variable(xavier_init(n_hidden_recog_2, n_z)),\n",
    "\t\t\t'out_log_sigma': tf.Variable(xavier_init(n_hidden_recog_2, n_z))}\n",
    "\t\tall_weights['biases_recog'] = {\n",
    "\t\t\t'b1': tf.Variable(tf.zeros([n_hidden_recog_1], dtype=tf.float32)),\n",
    "\t\t\t'b2': tf.Variable(tf.zeros([n_hidden_recog_2], dtype=tf.float32)),\n",
    "\t\t\t'out_mean': tf.Variable(tf.zeros([n_z], dtype=tf.float32)),\n",
    "\t\t\t'out_log_sigma': tf.Variable(tf.zeros([n_z], dtype=tf.float32))}\n",
    "\t\t# generate network \n",
    "\t\tall_weights['weights_gener'] = {\n",
    "\t\t\t'h1': tf.Variable(xavier_init(n_z, n_hidden_gener_1)),\n",
    "\t\t\t'h2': tf.Variable(xavier_init(n_hidden_gener_1, n_hidden_gener_2)),\n",
    "\t\t\t'out_mean': tf.Variable(xavier_init(n_hidden_gener_2, n_input)),\n",
    "\t\t\t'out_log_sigma': tf.Variable(xavier_init(n_hidden_gener_2, n_input))}\n",
    "\t\tall_weights['biases_gener'] = {\n",
    "\t\t\t'b1': tf.Variable(tf.zeros([n_hidden_gener_1], dtype=tf.float32)),\n",
    "\t\t\t'b2': tf.Variable(tf.zeros([n_hidden_gener_2], dtype=tf.float32)),\n",
    "\t\t\t'out_mean': tf.Variable(tf.zeros([n_input], dtype=tf.float32)),\n",
    "\t\t\t'out_log_sigma': tf.Variable(tf.zeros([n_input], dtype=tf.float32))}\n",
    "\t\treturn all_weights\n",
    "\t\n",
    "\tdef create_network(self):\n",
    "\t\t# create tensor variables for  weights and bias\n",
    "\t\tself.network_weights=self.initialize_weights(**self.network_architecture) \n",
    "\t\t# network_weights  is a dictionary \n",
    "\t\t# pass architecture parameters \n",
    "\t\t# network_architecture is a dictionary \n",
    "\n",
    "\t\t# recognition network :\n",
    "\t\t#input: data x shape [batch_size,n_x]\n",
    "\t\t#output : mean of z , log(variance^2) shape [batch_size,n_z]\n",
    "\t\t# pass variables to network \n",
    "\t\tself.z_mean, self.z_log_sigma_sq = \\\n",
    "\t\t\tself.recognition_network(self.network_weights[\"weights_recog\"], \n",
    "\t\t\t\t\t\t\t\t\t self.network_weights[\"biases_recog\"])\n",
    "\t\t\t\n",
    "\t\tn_z = self.network_architecture[\"n_z\"]# dimension of z\n",
    "\t\t\n",
    "\t\t\n",
    "\t\teps = tf.random_normal((self.batch_size, n_z), 0, 1, dtype=tf.float32) \n",
    "\t\t# standard Normal\n",
    "\t\t# z = z_mean + z_sigma*epsilon\n",
    "\t\t\n",
    "\t\tself.z = tf.add(self.z_mean, tf.multiply(tf.sqrt(tf.exp(self.z_log_sigma_sq)), eps))\n",
    "\t\t#shape [batch_size,n_z]\n",
    "\t\t\n",
    "\t\t# Generate network :\n",
    "\t\t# input z\n",
    "\t\t# output mean of pixels shape[batch_Size,n_x]\n",
    "\t\t# multivariant Gaussian Distribution\n",
    "\t\tself.x_reconstr_mean = \\\n",
    "\t\t\tself.generator_network(self.network_weights[\"weights_gener\"],\n",
    "\t\t\t\t\t\t\t\t   self.network_weights[\"biases_gener\"])\n",
    "\t\n",
    "\tdef recognition_network(self, weights, biases):\n",
    "\t\t# Generate probabilistic encoder (recognition network), which\n",
    "\t\t# maps inputs onto a normal distribution in latent space.\n",
    "\t\t# The transformation is parametrized and can be learned.\n",
    "\t\tlayer_1 = self.transfer_fct(tf.add(tf.matmul(self.x, weights['h1']), \n",
    "\t\t\t\t\t\t\t\t\t\t   biases['b1'])) \n",
    "\t\tlayer_2 = self.transfer_fct(tf.add(tf.matmul(layer_1, weights['h2']), \n",
    "\t\t\t\t\t\t\t\t\t\t   biases['b2'])) \n",
    "\t\tz_mean = tf.add(tf.matmul(layer_2, weights['out_mean']),\n",
    "\t\t\t\t\t\tbiases['out_mean'])\n",
    "\t\t\n",
    "\t\tz_log_sigma_sq =\\\n",
    "\t\t\ttf.add(tf.matmul(layer_2, weights['out_log_sigma']), \n",
    "\t\t\t\t   biases['out_log_sigma'])\n",
    "\t\t\t\n",
    "\t\treturn (z_mean, z_log_sigma_sq)\n",
    "\t\n",
    "\t# use variables to buld generate network \n",
    "\tdef generator_network(self, weights, biases):\n",
    "\t\t# Generate probabilistic decoder (decoder network), which\n",
    "\t\t# maps points in latent space onto a Bernoulli distribution in data space.\n",
    "\t\t# The transformation is parametrized and can be learned.\n",
    "\t\tlayer_1 = self.transfer_fct(tf.add(tf.matmul(self.z, weights['h1']), \n",
    "\t\t\t\t\t\t\t\t\t\t   biases['b1'])) \n",
    "\t\tlayer_2 = self.transfer_fct(tf.add(tf.matmul(layer_1, weights['h2']), \n",
    "\t\t\t\t\t\t\t\t\t\t   biases['b2'])) \n",
    "\t\t\n",
    "\t\t# depth estimation mean \n",
    "\t\tx_reconstr_mean = \\\n",
    "\t\t   tf.add(tf.matmul(layer_2, weights['out_mean']), \n",
    "\t\t\t\t\t\t\t\t biases['out_mean'])\n",
    "\t\t#x_reconstr_sigma= \\\n",
    "\t\t#     tf.add(tf.matmul(layer_2, weights['out_log_sigma']), \n",
    "\t\t#                        biases['out_log_sigma'])\n",
    "\t\treturn x_reconstr_mean\n",
    "\t\n",
    "\tdef create_loss_optimizer(self):\n",
    "\t\t# The loss is composed of two terms:\n",
    "\t\t\n",
    "\t\t# 1.) The reconstruction loss (the negative log probability\n",
    "\t\t#     of the input under the reconstructed Bernoulli/Gaussian distribution \n",
    "\t\t#     induced by the decoder in the data space).\n",
    "\t\t#     This can be interpreted as the number of \"nats\" required\n",
    "\t\t#     for reconstructing the input when the activation in latent\n",
    "\t\t#     is given.\n",
    "\t\t# Adding 1e-10 to avoid evaluation of log(0.0)\n",
    "\t\t# Assuem identity gaussian \n",
    "\t\t\n",
    "\t\t# loss from generative data \n",
    " \n",
    "\t\t# 1) bernouli distribution\n",
    "\t\t\"\"\"\n",
    "\t\treconstr_loss =-tf.reduce_sum(self.x * tf.log(1e-10 + self.x_reconstr_mean)\n",
    "\t\t\t\t\t\t   + (1-self.x) * tf.log(1e-10 + 1 - self.x_reconstr_mean),\n",
    "\t\t\t\t\t\t   axis=1)\n",
    "\t\t\"\"\"\n",
    "\t\t# 1) gaussian distribution\n",
    "\t\treconstr_error=self.x-self.x_reconstr_mean\n",
    "\t\treconstr_loss=tf.reduce_sum(tf.square(reconstr_error),axis=1)\n",
    "\t\t# 2.) The latent loss, which is defined as the Kullback Leibler divergence \n",
    "\t\t##    between the distribution in latent space induced by the encoder on \n",
    "\t\t#     the data and some prior. This acts as a kind of regularizer.\n",
    "\t\t#     This can be interpreted as the number of \"nats\" required\n",
    "\t\t#     for transmitting the the latent space distribution given\n",
    "\t\t#     the prior.\n",
    "\t\t#     closed form of  KL  divergence with gaussian distribution\n",
    "\t\tlatent_loss=-0.5*tf.reduce_sum(1+self.z_log_sigma_sq \n",
    "\t\t\t\t\t\t\t\t\t\t   -tf.square(self.z_mean) \n",
    "\t\t\t\t\t\t\t\t\t\t   -tf.exp(self.z_log_sigma_sq), axis=1)\n",
    "\t\tself.cost = tf.reduce_mean(reconstr_loss + latent_loss) # average over batch\n",
    "\t\t# Use ADAM optimizer\n",
    "\t\tself.optimizer = \\\n",
    "\t\t\ttf.train.AdamOptimizer(learning_rate=self.learning_rate).minimize(self.cost)\n",
    "\t\t\t\n",
    "\n",
    "\tdef partial_fit(self, X):\n",
    "\t\t\"\"\"\n",
    "\t\tTrain model based on mini-batch of input data.\n",
    "\t\tReturn cost of mini-batch.\n",
    "\t\t\"\"\"\n",
    "\t\topt,cost = sess.run((self.optimizer, self.cost), \n",
    "\t\t\t\t\t\t\t\t  feed_dict={self.x: X})\n",
    "\t\treturn cost\n",
    "\n",
    "\n",
    "#Build  network for depth channel\n",
    "with tf.variable_scope(\"depth\"):\n",
    "\tnetwork_architecture_depth= \\\n",
    "\t   dict(n_hidden_recog_1=1000, # 1st layer encoder neurons\n",
    "\t\t n_hidden_recog_2=1000, # 2nd layer encoder neurons\n",
    "\t\t n_hidden_gener_1=1000, # 1st layer decoder neurons\n",
    "\t\t n_hidden_gener_2=1000, # 2nd layer decoder neurons\n",
    "\t\t n_input=1080, # MNIST data input (img shape: 28*28)\n",
    "\t\t n_z=50)  # dimensionality of latent space\n",
    "\tvae_depth=VariationalAutoencoder(network_architecture_depth,learning_rate=0.001,batch_size=batch_size)\n",
    "\n",
    "listvar=vae_depth.network_weights\n",
    "var_depth=(list(listvar['weights_recog'].values())\n",
    "\t+list(listvar['biases_recog'].values())\n",
    "\t+list(listvar['weights_gener'].values())\n",
    "\t+list(listvar['biases_gener'].values()))\n",
    "saver_depth=tf.train.Saver(var_depth)\n",
    "\n",
    "\n",
    "# Build network for semantics  channel\n",
    "with tf.variable_scope(\"RGB\"):\n",
    "\tnetwork_architecture_rgb= \\\n",
    "\t\tdict(n_hidden_recog_1=1000, # 1st layer encoder neurons\n",
    "\t\t\tn_hidden_recog_2=1000, # 2nd layer encoder neurons\n",
    "\t\t\tn_hidden_gener_1=1000, # 1st layer decoder neurons\n",
    "\t\t\tn_hidden_gener_2=1000, # 2nd layer decoder neurons\n",
    "\t\t\tn_input=1080*3, # MNIST data input (img shape: 28*28)\n",
    "\t\t\tn_z=50)  # dimensionality of latent space\n",
    "\tvae_rgb=VariationalAutoencoder(network_architecture_rgb,learning_rate=0.001,batch_size=batch_size)\n",
    "  \n",
    "listvar2=vae_rgb.network_weights\n",
    "var_rgb=(list(listvar2['weights_recog'].values())\n",
    "\t+list(listvar2['biases_recog'].values())\n",
    "\t+list(listvar2['weights_gener'].values())\n",
    "\t+list(listvar2['biases_gener'].values()))\n",
    "saver_rgb=tf.train.Saver(var_rgb)\n",
    "\n",
    "\n",
    "# Build network for semantic channels\n",
    "with tf.variable_scope(\"Sem\"):\n",
    "\tnetwork_architecture_Sem = \\\n",
    "\t\tdict(n_hidden_recog_1=2000, # 1st layer encoder neurons\n",
    "\t\t n_hidden_recog_2=2000, # 2nd layer encoder neurons\n",
    "\t\t n_hidden_gener_1=2000, # 1st layer decoder neurons\n",
    "\t\t n_hidden_gener_2=2000, # 2nd layer decoder neurons\n",
    "\t\t n_input=5400, # MNIST data input (img shape: 28*28)\n",
    "\t\t n_z=100)  # dimensionality of latent space\n",
    "\tvae_Sem=VariationalAutoencoder(network_architecture_Sem,learning_rate=1e-4,batch_size=batch_size)\n",
    "\n",
    "listvar3=vae_Sem.network_weights\n",
    "var_Sem=(list(listvar3['weights_recog'].values())\n",
    "\t+list(listvar3['biases_recog'].values())\n",
    "\t+list(listvar3['weights_gener'].values())\n",
    "\t+list(listvar3['biases_gener'].values()))\n",
    "saver_Sem=tf.train.Saver(var_Sem)\n",
    "\n",
    "\n",
    "########################    Start build  shared information fusion   #############################\n",
    "with tf.variable_scope(\"Full\"):\n",
    "\tnetwork_architecture_Full = \\\n",
    "\t\tdict(n_hidden_recog_1=50, # 1st layer encoder neurons\n",
    "\t\t n_hidden_recog_2=50, # 2nd layer encoder neurons\n",
    "\t\t n_hidden_gener_1=50, # 1st layer decoder neurons\n",
    "\t\t n_hidden_gener_2=50, # 2nd layer decoder neurons\n",
    "\t\t n_input=200, # MNIST data input (img shape: 28*28)\n",
    "\t\t n_z=2)  # dimensionality of latent space\n",
    "\t#vae_Sem= VariationalAutoencoder(network_architecture_Sem,learning_rate=1e-4, batch_size=100)\n",
    "\tvae_Full=VariationalAutoencoder(network_architecture_Full,learning_rate=1e-4,batch_size=batch_size)\n",
    "\n",
    "listvar4=vae_Full.network_weights\n",
    "var_Full=(list(listvar4['weights_recog'].values())\n",
    "\t+list(listvar4['biases_recog'].values())\n",
    "\t+list(listvar4['weights_gener'].values())\n",
    "\t+list(listvar4['biases_gener'].values()))\n",
    "saver_Full=tf.train.Saver(var_Full)"
   ]
  },
  {
   "cell_type": "markdown",
   "metadata": {},
   "source": [
    "# load data"
   ]
  },
  {
   "cell_type": "code",
   "execution_count": 122,
   "metadata": {},
   "outputs": [
    {
     "name": "stdout",
     "output_type": "stream",
     "text": [
      "(30602, 5400)\n",
      "(30602, 3240)\n",
      "(30602, 1080)\n"
     ]
    }
   ],
   "source": [
    "depth_data=np.load(\"../Data/depth_data.npy\")\n",
    "depthmask_data=np.load(\"../Data/depth_mask.npy\")\n",
    "Depth_input=depth_data[:,:,:,0].reshape(-1,1080)[0:37000]# shape [size,1080]\n",
    "Depthmask_input=depthmask_data[:,:,:,0].reshape(-1,1080)[0:37000]\n",
    "\n",
    "RGB_data=np.load(\"../Data/rgb_data.npy\")\n",
    "R_data=RGB_data[:,:,:,0].reshape(-1,1080)\n",
    "G_data=RGB_data[:,:,:,1].reshape(-1,1080)\n",
    "B_data=RGB_data[:,:,:,2].reshape(-1,1080)\n",
    "RGB_input=np.concatenate((R_data,G_data,B_data),axis=1)[0:37000] #shape[size,3*1080]\n",
    "\n",
    "Sem_data=np.load(\"../Data/sem_data.npy\")\n",
    "Ground_input=Sem_data[:,:,:,0].reshape(-1,1080)\n",
    "Objects_input=Sem_data[:,:,:,1].reshape(-1,1080)\n",
    "Building_input=Sem_data[:,:,:,2].reshape(-1,1080)\n",
    "Vegetation_input=Sem_data[:,:,:,3].reshape(-1,1080)\n",
    "Sky_input=Sem_data[:,:,:,4].reshape(-1,1080)\n",
    "Sem_input=np.concatenate((Ground_input,Objects_input,\n",
    "\t\t\t\t\t\t  Building_input,Vegetation_input,Sky_input),\n",
    "\t\t\t\t\t\t  axis=1)[0:37000]# shape[size,5*1080]\n",
    "print(Sem_input.shape)\n",
    "print(RGB_input.shape)\n",
    "print(Depth_input.shape)\n",
    "n_samples=Sem_input.shape[0] \n",
    "############################ Finish Load data ###################################"
   ]
  },
  {
   "cell_type": "markdown",
   "metadata": {},
   "source": [
    "# load model "
   ]
  },
  {
   "cell_type": "code",
   "execution_count": 145,
   "metadata": {},
   "outputs": [
    {
     "name": "stdout",
     "output_type": "stream",
     "text": [
      "INFO:tensorflow:Restoring parameters from vae_models/depth_100_epochs/model\n",
      "loaded model weights from vae_models/depth_100_epochs/model\n",
      "INFO:tensorflow:Restoring parameters from vae_models/rgb_100_epochs/model\n"
     ]
    },
    {
     "ename": "InvalidArgumentError",
     "evalue": "Unsuccessful TensorSliceReader constructor: Failed to get matching files on vae_models/rgb_100_epochs/model: Not found: vae_models/rgb_100_epochs; No such file or directory\n\t [[Node: save_1/RestoreV2 = RestoreV2[dtypes=[DT_FLOAT], _device=\"/job:localhost/replica:0/task:0/device:CPU:0\"](_arg_save_1/Const_0_0, save_1/RestoreV2/tensor_names, save_1/RestoreV2/shape_and_slices)]]\n\nCaused by op 'save_1/RestoreV2', defined at:\n  File \"/Users/yi/anaconda3/lib/python3.6/runpy.py\", line 193, in _run_module_as_main\n    \"__main__\", mod_spec)\n  File \"/Users/yi/anaconda3/lib/python3.6/runpy.py\", line 85, in _run_code\n    exec(code, run_globals)\n  File \"/Users/yi/anaconda3/lib/python3.6/site-packages/ipykernel_launcher.py\", line 16, in <module>\n    app.launch_new_instance()\n  File \"/Users/yi/anaconda3/lib/python3.6/site-packages/traitlets/config/application.py\", line 658, in launch_instance\n    app.start()\n  File \"/Users/yi/anaconda3/lib/python3.6/site-packages/ipykernel/kernelapp.py\", line 477, in start\n    ioloop.IOLoop.instance().start()\n  File \"/Users/yi/anaconda3/lib/python3.6/site-packages/zmq/eventloop/ioloop.py\", line 177, in start\n    super(ZMQIOLoop, self).start()\n  File \"/Users/yi/anaconda3/lib/python3.6/site-packages/tornado/ioloop.py\", line 888, in start\n    handler_func(fd_obj, events)\n  File \"/Users/yi/anaconda3/lib/python3.6/site-packages/tornado/stack_context.py\", line 277, in null_wrapper\n    return fn(*args, **kwargs)\n  File \"/Users/yi/anaconda3/lib/python3.6/site-packages/zmq/eventloop/zmqstream.py\", line 440, in _handle_events\n    self._handle_recv()\n  File \"/Users/yi/anaconda3/lib/python3.6/site-packages/zmq/eventloop/zmqstream.py\", line 472, in _handle_recv\n    self._run_callback(callback, msg)\n  File \"/Users/yi/anaconda3/lib/python3.6/site-packages/zmq/eventloop/zmqstream.py\", line 414, in _run_callback\n    callback(*args, **kwargs)\n  File \"/Users/yi/anaconda3/lib/python3.6/site-packages/tornado/stack_context.py\", line 277, in null_wrapper\n    return fn(*args, **kwargs)\n  File \"/Users/yi/anaconda3/lib/python3.6/site-packages/ipykernel/kernelbase.py\", line 283, in dispatcher\n    return self.dispatch_shell(stream, msg)\n  File \"/Users/yi/anaconda3/lib/python3.6/site-packages/ipykernel/kernelbase.py\", line 235, in dispatch_shell\n    handler(stream, idents, msg)\n  File \"/Users/yi/anaconda3/lib/python3.6/site-packages/ipykernel/kernelbase.py\", line 399, in execute_request\n    user_expressions, allow_stdin)\n  File \"/Users/yi/anaconda3/lib/python3.6/site-packages/ipykernel/ipkernel.py\", line 196, in do_execute\n    res = shell.run_cell(code, store_history=store_history, silent=silent)\n  File \"/Users/yi/anaconda3/lib/python3.6/site-packages/ipykernel/zmqshell.py\", line 533, in run_cell\n    return super(ZMQInteractiveShell, self).run_cell(*args, **kwargs)\n  File \"/Users/yi/anaconda3/lib/python3.6/site-packages/IPython/core/interactiveshell.py\", line 2698, in run_cell\n    interactivity=interactivity, compiler=compiler, result=result)\n  File \"/Users/yi/anaconda3/lib/python3.6/site-packages/IPython/core/interactiveshell.py\", line 2802, in run_ast_nodes\n    if self.run_code(code, result):\n  File \"/Users/yi/anaconda3/lib/python3.6/site-packages/IPython/core/interactiveshell.py\", line 2862, in run_code\n    exec(code_obj, self.user_global_ns, self.user_ns)\n  File \"<ipython-input-121-b3187ee4e41b>\", line 226, in <module>\n    saver_rgb=tf.train.Saver(var_rgb)\n  File \"/Users/yi/anaconda3/lib/python3.6/site-packages/tensorflow/python/training/saver.py\", line 1218, in __init__\n    self.build()\n  File \"/Users/yi/anaconda3/lib/python3.6/site-packages/tensorflow/python/training/saver.py\", line 1227, in build\n    self._build(self._filename, build_save=True, build_restore=True)\n  File \"/Users/yi/anaconda3/lib/python3.6/site-packages/tensorflow/python/training/saver.py\", line 1263, in _build\n    build_save=build_save, build_restore=build_restore)\n  File \"/Users/yi/anaconda3/lib/python3.6/site-packages/tensorflow/python/training/saver.py\", line 751, in _build_internal\n    restore_sequentially, reshape)\n  File \"/Users/yi/anaconda3/lib/python3.6/site-packages/tensorflow/python/training/saver.py\", line 427, in _AddRestoreOps\n    tensors = self.restore_op(filename_tensor, saveable, preferred_shard)\n  File \"/Users/yi/anaconda3/lib/python3.6/site-packages/tensorflow/python/training/saver.py\", line 267, in restore_op\n    [spec.tensor.dtype])[0])\n  File \"/Users/yi/anaconda3/lib/python3.6/site-packages/tensorflow/python/ops/gen_io_ops.py\", line 1021, in restore_v2\n    shape_and_slices=shape_and_slices, dtypes=dtypes, name=name)\n  File \"/Users/yi/anaconda3/lib/python3.6/site-packages/tensorflow/python/framework/op_def_library.py\", line 787, in _apply_op_helper\n    op_def=op_def)\n  File \"/Users/yi/anaconda3/lib/python3.6/site-packages/tensorflow/python/framework/ops.py\", line 2956, in create_op\n    op_def=op_def)\n  File \"/Users/yi/anaconda3/lib/python3.6/site-packages/tensorflow/python/framework/ops.py\", line 1470, in __init__\n    self._traceback = self._graph._extract_stack()  # pylint: disable=protected-access\n\nInvalidArgumentError (see above for traceback): Unsuccessful TensorSliceReader constructor: Failed to get matching files on vae_models/rgb_100_epochs/model: Not found: vae_models/rgb_100_epochs; No such file or directory\n\t [[Node: save_1/RestoreV2 = RestoreV2[dtypes=[DT_FLOAT], _device=\"/job:localhost/replica:0/task:0/device:CPU:0\"](_arg_save_1/Const_0_0, save_1/RestoreV2/tensor_names, save_1/RestoreV2/shape_and_slices)]]\n",
     "output_type": "error",
     "traceback": [
      "\u001b[0;31m---------------------------------------------------------------------------\u001b[0m",
      "\u001b[0;31mInvalidArgumentError\u001b[0m                      Traceback (most recent call last)",
      "\u001b[0;32m~/anaconda3/lib/python3.6/site-packages/tensorflow/python/client/session.py\u001b[0m in \u001b[0;36m_do_call\u001b[0;34m(self, fn, *args)\u001b[0m\n\u001b[1;32m   1322\u001b[0m     \u001b[0;32mtry\u001b[0m\u001b[0;34m:\u001b[0m\u001b[0;34m\u001b[0m\u001b[0m\n\u001b[0;32m-> 1323\u001b[0;31m       \u001b[0;32mreturn\u001b[0m \u001b[0mfn\u001b[0m\u001b[0;34m(\u001b[0m\u001b[0;34m*\u001b[0m\u001b[0margs\u001b[0m\u001b[0;34m)\u001b[0m\u001b[0;34m\u001b[0m\u001b[0m\n\u001b[0m\u001b[1;32m   1324\u001b[0m     \u001b[0;32mexcept\u001b[0m \u001b[0merrors\u001b[0m\u001b[0;34m.\u001b[0m\u001b[0mOpError\u001b[0m \u001b[0;32mas\u001b[0m \u001b[0me\u001b[0m\u001b[0;34m:\u001b[0m\u001b[0;34m\u001b[0m\u001b[0m\n",
      "\u001b[0;32m~/anaconda3/lib/python3.6/site-packages/tensorflow/python/client/session.py\u001b[0m in \u001b[0;36m_run_fn\u001b[0;34m(session, feed_dict, fetch_list, target_list, options, run_metadata)\u001b[0m\n\u001b[1;32m   1301\u001b[0m                                    \u001b[0mfeed_dict\u001b[0m\u001b[0;34m,\u001b[0m \u001b[0mfetch_list\u001b[0m\u001b[0;34m,\u001b[0m \u001b[0mtarget_list\u001b[0m\u001b[0;34m,\u001b[0m\u001b[0;34m\u001b[0m\u001b[0m\n\u001b[0;32m-> 1302\u001b[0;31m                                    status, run_metadata)\n\u001b[0m\u001b[1;32m   1303\u001b[0m \u001b[0;34m\u001b[0m\u001b[0m\n",
      "\u001b[0;32m~/anaconda3/lib/python3.6/site-packages/tensorflow/python/framework/errors_impl.py\u001b[0m in \u001b[0;36m__exit__\u001b[0;34m(self, type_arg, value_arg, traceback_arg)\u001b[0m\n\u001b[1;32m    472\u001b[0m             \u001b[0mcompat\u001b[0m\u001b[0;34m.\u001b[0m\u001b[0mas_text\u001b[0m\u001b[0;34m(\u001b[0m\u001b[0mc_api\u001b[0m\u001b[0;34m.\u001b[0m\u001b[0mTF_Message\u001b[0m\u001b[0;34m(\u001b[0m\u001b[0mself\u001b[0m\u001b[0;34m.\u001b[0m\u001b[0mstatus\u001b[0m\u001b[0;34m.\u001b[0m\u001b[0mstatus\u001b[0m\u001b[0;34m)\u001b[0m\u001b[0;34m)\u001b[0m\u001b[0;34m,\u001b[0m\u001b[0;34m\u001b[0m\u001b[0m\n\u001b[0;32m--> 473\u001b[0;31m             c_api.TF_GetCode(self.status.status))\n\u001b[0m\u001b[1;32m    474\u001b[0m     \u001b[0;31m# Delete the underlying status object from memory otherwise it stays alive\u001b[0m\u001b[0;34m\u001b[0m\u001b[0;34m\u001b[0m\u001b[0m\n",
      "\u001b[0;31mInvalidArgumentError\u001b[0m: Unsuccessful TensorSliceReader constructor: Failed to get matching files on vae_models/rgb_100_epochs/model: Not found: vae_models/rgb_100_epochs; No such file or directory\n\t [[Node: save_1/RestoreV2 = RestoreV2[dtypes=[DT_FLOAT], _device=\"/job:localhost/replica:0/task:0/device:CPU:0\"](_arg_save_1/Const_0_0, save_1/RestoreV2/tensor_names, save_1/RestoreV2/shape_and_slices)]]",
      "\nDuring handling of the above exception, another exception occurred:\n",
      "\u001b[0;31mInvalidArgumentError\u001b[0m                      Traceback (most recent call last)",
      "\u001b[0;32m<ipython-input-145-51bbf2fb64c1>\u001b[0m in \u001b[0;36m<module>\u001b[0;34m()\u001b[0m\n\u001b[1;32m      6\u001b[0m \u001b[0msaver_depth\u001b[0m\u001b[0;34m.\u001b[0m\u001b[0mrestore\u001b[0m\u001b[0;34m(\u001b[0m\u001b[0msess\u001b[0m\u001b[0;34m,\u001b[0m\u001b[0mdepthpath\u001b[0m\u001b[0;34m)\u001b[0m\u001b[0;34m\u001b[0m\u001b[0m\n\u001b[1;32m      7\u001b[0m \u001b[0mprint\u001b[0m\u001b[0;34m(\u001b[0m\u001b[0;34m\"loaded model weights from \"\u001b[0m\u001b[0;34m+\u001b[0m\u001b[0mdepthpath\u001b[0m\u001b[0;34m)\u001b[0m\u001b[0;34m\u001b[0m\u001b[0m\n\u001b[0;32m----> 8\u001b[0;31m \u001b[0msaver_rgb\u001b[0m\u001b[0;34m.\u001b[0m\u001b[0mrestore\u001b[0m\u001b[0;34m(\u001b[0m\u001b[0msess\u001b[0m\u001b[0;34m,\u001b[0m\u001b[0mrgbpath\u001b[0m\u001b[0;34m)\u001b[0m\u001b[0;34m\u001b[0m\u001b[0m\n\u001b[0m\u001b[1;32m      9\u001b[0m \u001b[0mprint\u001b[0m\u001b[0;34m(\u001b[0m\u001b[0;34m\"loaded model weights from \"\u001b[0m\u001b[0;34m+\u001b[0m\u001b[0mrgbpath\u001b[0m\u001b[0;34m)\u001b[0m\u001b[0;34m\u001b[0m\u001b[0m\n\u001b[1;32m     10\u001b[0m \u001b[0msaver_Sem\u001b[0m\u001b[0;34m.\u001b[0m\u001b[0mrestore\u001b[0m\u001b[0;34m(\u001b[0m\u001b[0msess\u001b[0m\u001b[0;34m,\u001b[0m\u001b[0msempath\u001b[0m\u001b[0;34m)\u001b[0m\u001b[0;34m\u001b[0m\u001b[0m\n",
      "\u001b[0;32m~/anaconda3/lib/python3.6/site-packages/tensorflow/python/training/saver.py\u001b[0m in \u001b[0;36mrestore\u001b[0;34m(self, sess, save_path)\u001b[0m\n\u001b[1;32m   1664\u001b[0m     \u001b[0;32mif\u001b[0m \u001b[0mcontext\u001b[0m\u001b[0;34m.\u001b[0m\u001b[0min_graph_mode\u001b[0m\u001b[0;34m(\u001b[0m\u001b[0;34m)\u001b[0m\u001b[0;34m:\u001b[0m\u001b[0;34m\u001b[0m\u001b[0m\n\u001b[1;32m   1665\u001b[0m       sess.run(self.saver_def.restore_op_name,\n\u001b[0;32m-> 1666\u001b[0;31m                {self.saver_def.filename_tensor_name: save_path})\n\u001b[0m\u001b[1;32m   1667\u001b[0m     \u001b[0;32melse\u001b[0m\u001b[0;34m:\u001b[0m\u001b[0;34m\u001b[0m\u001b[0m\n\u001b[1;32m   1668\u001b[0m       \u001b[0mself\u001b[0m\u001b[0;34m.\u001b[0m\u001b[0m_build_eager\u001b[0m\u001b[0;34m(\u001b[0m\u001b[0msave_path\u001b[0m\u001b[0;34m,\u001b[0m \u001b[0mbuild_save\u001b[0m\u001b[0;34m=\u001b[0m\u001b[0;32mFalse\u001b[0m\u001b[0;34m,\u001b[0m \u001b[0mbuild_restore\u001b[0m\u001b[0;34m=\u001b[0m\u001b[0;32mTrue\u001b[0m\u001b[0;34m)\u001b[0m\u001b[0;34m\u001b[0m\u001b[0m\n",
      "\u001b[0;32m~/anaconda3/lib/python3.6/site-packages/tensorflow/python/client/session.py\u001b[0m in \u001b[0;36mrun\u001b[0;34m(self, fetches, feed_dict, options, run_metadata)\u001b[0m\n\u001b[1;32m    887\u001b[0m     \u001b[0;32mtry\u001b[0m\u001b[0;34m:\u001b[0m\u001b[0;34m\u001b[0m\u001b[0m\n\u001b[1;32m    888\u001b[0m       result = self._run(None, fetches, feed_dict, options_ptr,\n\u001b[0;32m--> 889\u001b[0;31m                          run_metadata_ptr)\n\u001b[0m\u001b[1;32m    890\u001b[0m       \u001b[0;32mif\u001b[0m \u001b[0mrun_metadata\u001b[0m\u001b[0;34m:\u001b[0m\u001b[0;34m\u001b[0m\u001b[0m\n\u001b[1;32m    891\u001b[0m         \u001b[0mproto_data\u001b[0m \u001b[0;34m=\u001b[0m \u001b[0mtf_session\u001b[0m\u001b[0;34m.\u001b[0m\u001b[0mTF_GetBuffer\u001b[0m\u001b[0;34m(\u001b[0m\u001b[0mrun_metadata_ptr\u001b[0m\u001b[0;34m)\u001b[0m\u001b[0;34m\u001b[0m\u001b[0m\n",
      "\u001b[0;32m~/anaconda3/lib/python3.6/site-packages/tensorflow/python/client/session.py\u001b[0m in \u001b[0;36m_run\u001b[0;34m(self, handle, fetches, feed_dict, options, run_metadata)\u001b[0m\n\u001b[1;32m   1118\u001b[0m     \u001b[0;32mif\u001b[0m \u001b[0mfinal_fetches\u001b[0m \u001b[0;32mor\u001b[0m \u001b[0mfinal_targets\u001b[0m \u001b[0;32mor\u001b[0m \u001b[0;34m(\u001b[0m\u001b[0mhandle\u001b[0m \u001b[0;32mand\u001b[0m \u001b[0mfeed_dict_tensor\u001b[0m\u001b[0;34m)\u001b[0m\u001b[0;34m:\u001b[0m\u001b[0;34m\u001b[0m\u001b[0m\n\u001b[1;32m   1119\u001b[0m       results = self._do_run(handle, final_targets, final_fetches,\n\u001b[0;32m-> 1120\u001b[0;31m                              feed_dict_tensor, options, run_metadata)\n\u001b[0m\u001b[1;32m   1121\u001b[0m     \u001b[0;32melse\u001b[0m\u001b[0;34m:\u001b[0m\u001b[0;34m\u001b[0m\u001b[0m\n\u001b[1;32m   1122\u001b[0m       \u001b[0mresults\u001b[0m \u001b[0;34m=\u001b[0m \u001b[0;34m[\u001b[0m\u001b[0;34m]\u001b[0m\u001b[0;34m\u001b[0m\u001b[0m\n",
      "\u001b[0;32m~/anaconda3/lib/python3.6/site-packages/tensorflow/python/client/session.py\u001b[0m in \u001b[0;36m_do_run\u001b[0;34m(self, handle, target_list, fetch_list, feed_dict, options, run_metadata)\u001b[0m\n\u001b[1;32m   1315\u001b[0m     \u001b[0;32mif\u001b[0m \u001b[0mhandle\u001b[0m \u001b[0;32mis\u001b[0m \u001b[0;32mNone\u001b[0m\u001b[0;34m:\u001b[0m\u001b[0;34m\u001b[0m\u001b[0m\n\u001b[1;32m   1316\u001b[0m       return self._do_call(_run_fn, self._session, feeds, fetches, targets,\n\u001b[0;32m-> 1317\u001b[0;31m                            options, run_metadata)\n\u001b[0m\u001b[1;32m   1318\u001b[0m     \u001b[0;32melse\u001b[0m\u001b[0;34m:\u001b[0m\u001b[0;34m\u001b[0m\u001b[0m\n\u001b[1;32m   1319\u001b[0m       \u001b[0;32mreturn\u001b[0m \u001b[0mself\u001b[0m\u001b[0;34m.\u001b[0m\u001b[0m_do_call\u001b[0m\u001b[0;34m(\u001b[0m\u001b[0m_prun_fn\u001b[0m\u001b[0;34m,\u001b[0m \u001b[0mself\u001b[0m\u001b[0;34m.\u001b[0m\u001b[0m_session\u001b[0m\u001b[0;34m,\u001b[0m \u001b[0mhandle\u001b[0m\u001b[0;34m,\u001b[0m \u001b[0mfeeds\u001b[0m\u001b[0;34m,\u001b[0m \u001b[0mfetches\u001b[0m\u001b[0;34m)\u001b[0m\u001b[0;34m\u001b[0m\u001b[0m\n",
      "\u001b[0;32m~/anaconda3/lib/python3.6/site-packages/tensorflow/python/client/session.py\u001b[0m in \u001b[0;36m_do_call\u001b[0;34m(self, fn, *args)\u001b[0m\n\u001b[1;32m   1334\u001b[0m         \u001b[0;32mexcept\u001b[0m \u001b[0mKeyError\u001b[0m\u001b[0;34m:\u001b[0m\u001b[0;34m\u001b[0m\u001b[0m\n\u001b[1;32m   1335\u001b[0m           \u001b[0;32mpass\u001b[0m\u001b[0;34m\u001b[0m\u001b[0m\n\u001b[0;32m-> 1336\u001b[0;31m       \u001b[0;32mraise\u001b[0m \u001b[0mtype\u001b[0m\u001b[0;34m(\u001b[0m\u001b[0me\u001b[0m\u001b[0;34m)\u001b[0m\u001b[0;34m(\u001b[0m\u001b[0mnode_def\u001b[0m\u001b[0;34m,\u001b[0m \u001b[0mop\u001b[0m\u001b[0;34m,\u001b[0m \u001b[0mmessage\u001b[0m\u001b[0;34m)\u001b[0m\u001b[0;34m\u001b[0m\u001b[0m\n\u001b[0m\u001b[1;32m   1337\u001b[0m \u001b[0;34m\u001b[0m\u001b[0m\n\u001b[1;32m   1338\u001b[0m   \u001b[0;32mdef\u001b[0m \u001b[0m_extend_graph\u001b[0m\u001b[0;34m(\u001b[0m\u001b[0mself\u001b[0m\u001b[0;34m)\u001b[0m\u001b[0;34m:\u001b[0m\u001b[0;34m\u001b[0m\u001b[0m\n",
      "\u001b[0;31mInvalidArgumentError\u001b[0m: Unsuccessful TensorSliceReader constructor: Failed to get matching files on vae_models/rgb_100_epochs/model: Not found: vae_models/rgb_100_epochs; No such file or directory\n\t [[Node: save_1/RestoreV2 = RestoreV2[dtypes=[DT_FLOAT], _device=\"/job:localhost/replica:0/task:0/device:CPU:0\"](_arg_save_1/Const_0_0, save_1/RestoreV2/tensor_names, save_1/RestoreV2/shape_and_slices)]]\n\nCaused by op 'save_1/RestoreV2', defined at:\n  File \"/Users/yi/anaconda3/lib/python3.6/runpy.py\", line 193, in _run_module_as_main\n    \"__main__\", mod_spec)\n  File \"/Users/yi/anaconda3/lib/python3.6/runpy.py\", line 85, in _run_code\n    exec(code, run_globals)\n  File \"/Users/yi/anaconda3/lib/python3.6/site-packages/ipykernel_launcher.py\", line 16, in <module>\n    app.launch_new_instance()\n  File \"/Users/yi/anaconda3/lib/python3.6/site-packages/traitlets/config/application.py\", line 658, in launch_instance\n    app.start()\n  File \"/Users/yi/anaconda3/lib/python3.6/site-packages/ipykernel/kernelapp.py\", line 477, in start\n    ioloop.IOLoop.instance().start()\n  File \"/Users/yi/anaconda3/lib/python3.6/site-packages/zmq/eventloop/ioloop.py\", line 177, in start\n    super(ZMQIOLoop, self).start()\n  File \"/Users/yi/anaconda3/lib/python3.6/site-packages/tornado/ioloop.py\", line 888, in start\n    handler_func(fd_obj, events)\n  File \"/Users/yi/anaconda3/lib/python3.6/site-packages/tornado/stack_context.py\", line 277, in null_wrapper\n    return fn(*args, **kwargs)\n  File \"/Users/yi/anaconda3/lib/python3.6/site-packages/zmq/eventloop/zmqstream.py\", line 440, in _handle_events\n    self._handle_recv()\n  File \"/Users/yi/anaconda3/lib/python3.6/site-packages/zmq/eventloop/zmqstream.py\", line 472, in _handle_recv\n    self._run_callback(callback, msg)\n  File \"/Users/yi/anaconda3/lib/python3.6/site-packages/zmq/eventloop/zmqstream.py\", line 414, in _run_callback\n    callback(*args, **kwargs)\n  File \"/Users/yi/anaconda3/lib/python3.6/site-packages/tornado/stack_context.py\", line 277, in null_wrapper\n    return fn(*args, **kwargs)\n  File \"/Users/yi/anaconda3/lib/python3.6/site-packages/ipykernel/kernelbase.py\", line 283, in dispatcher\n    return self.dispatch_shell(stream, msg)\n  File \"/Users/yi/anaconda3/lib/python3.6/site-packages/ipykernel/kernelbase.py\", line 235, in dispatch_shell\n    handler(stream, idents, msg)\n  File \"/Users/yi/anaconda3/lib/python3.6/site-packages/ipykernel/kernelbase.py\", line 399, in execute_request\n    user_expressions, allow_stdin)\n  File \"/Users/yi/anaconda3/lib/python3.6/site-packages/ipykernel/ipkernel.py\", line 196, in do_execute\n    res = shell.run_cell(code, store_history=store_history, silent=silent)\n  File \"/Users/yi/anaconda3/lib/python3.6/site-packages/ipykernel/zmqshell.py\", line 533, in run_cell\n    return super(ZMQInteractiveShell, self).run_cell(*args, **kwargs)\n  File \"/Users/yi/anaconda3/lib/python3.6/site-packages/IPython/core/interactiveshell.py\", line 2698, in run_cell\n    interactivity=interactivity, compiler=compiler, result=result)\n  File \"/Users/yi/anaconda3/lib/python3.6/site-packages/IPython/core/interactiveshell.py\", line 2802, in run_ast_nodes\n    if self.run_code(code, result):\n  File \"/Users/yi/anaconda3/lib/python3.6/site-packages/IPython/core/interactiveshell.py\", line 2862, in run_code\n    exec(code_obj, self.user_global_ns, self.user_ns)\n  File \"<ipython-input-121-b3187ee4e41b>\", line 226, in <module>\n    saver_rgb=tf.train.Saver(var_rgb)\n  File \"/Users/yi/anaconda3/lib/python3.6/site-packages/tensorflow/python/training/saver.py\", line 1218, in __init__\n    self.build()\n  File \"/Users/yi/anaconda3/lib/python3.6/site-packages/tensorflow/python/training/saver.py\", line 1227, in build\n    self._build(self._filename, build_save=True, build_restore=True)\n  File \"/Users/yi/anaconda3/lib/python3.6/site-packages/tensorflow/python/training/saver.py\", line 1263, in _build\n    build_save=build_save, build_restore=build_restore)\n  File \"/Users/yi/anaconda3/lib/python3.6/site-packages/tensorflow/python/training/saver.py\", line 751, in _build_internal\n    restore_sequentially, reshape)\n  File \"/Users/yi/anaconda3/lib/python3.6/site-packages/tensorflow/python/training/saver.py\", line 427, in _AddRestoreOps\n    tensors = self.restore_op(filename_tensor, saveable, preferred_shard)\n  File \"/Users/yi/anaconda3/lib/python3.6/site-packages/tensorflow/python/training/saver.py\", line 267, in restore_op\n    [spec.tensor.dtype])[0])\n  File \"/Users/yi/anaconda3/lib/python3.6/site-packages/tensorflow/python/ops/gen_io_ops.py\", line 1021, in restore_v2\n    shape_and_slices=shape_and_slices, dtypes=dtypes, name=name)\n  File \"/Users/yi/anaconda3/lib/python3.6/site-packages/tensorflow/python/framework/op_def_library.py\", line 787, in _apply_op_helper\n    op_def=op_def)\n  File \"/Users/yi/anaconda3/lib/python3.6/site-packages/tensorflow/python/framework/ops.py\", line 2956, in create_op\n    op_def=op_def)\n  File \"/Users/yi/anaconda3/lib/python3.6/site-packages/tensorflow/python/framework/ops.py\", line 1470, in __init__\n    self._traceback = self._graph._extract_stack()  # pylint: disable=protected-access\n\nInvalidArgumentError (see above for traceback): Unsuccessful TensorSliceReader constructor: Failed to get matching files on vae_models/rgb_100_epochs/model: Not found: vae_models/rgb_100_epochs; No such file or directory\n\t [[Node: save_1/RestoreV2 = RestoreV2[dtypes=[DT_FLOAT], _device=\"/job:localhost/replica:0/task:0/device:CPU:0\"](_arg_save_1/Const_0_0, save_1/RestoreV2/tensor_names, save_1/RestoreV2/shape_and_slices)]]\n"
     ]
    }
   ],
   "source": [
    "### Initialization\n",
    "init=tf.global_variables_initializer()\n",
    "sess=tf.Session(config=config)\n",
    "sess.run(init)\n",
    "###Load  other models \n",
    "saver_depth.restore(sess,depthpath)\n",
    "print(\"loaded model weights from \"+depthpath)\n",
    "saver_rgb.restore(sess,rgbpath)\n",
    "print(\"loaded model weights from \"+rgbpath)\n",
    "saver_Sem.restore(sess,sempath)\n",
    "print(\"loaded model weights from \"+sempath)\n",
    "######################## variables list #########################\n",
    "\n",
    "train_new_model=False\n",
    "if train_new_model:    \n",
    "\tvae_Full.train(batch_size=100, training_epochs=1)\n",
    "\tsaver_Full.save(sess,fullpath)\n",
    "\tprint(\"saved the vae model weights to \"+fullpath)\n",
    "else:\n",
    "\tsaver_Full.restore(sess,fullpath)\n",
    "\tprint(\"loaded the vae model weights from\"+fullpath)\n",
    "################################  make predictions  ##########################\n",
    "\n",
    "############################# Load test data ################################\n",
    "#z1_depth=sess.run(vae_depth.z_mean,feed_dict={vae_depth.x:Depth_input[1000:1001]*0})\n",
    "#z1_rgb=sess.run(vae_rgb.z_mean,feed_dict={vae_rgb.x:RGB_input[1000:1001]})\n",
    "#z1_sem=sess.run(vae_Sem.z_mean,feed_dict={vae_Sem.x:Sem_input[1000:1001]*0})\n",
    "#z1_in=np.concatenate((z1_rgb,z1_depth,z1_sem),axis=1)\n",
    "#z1=sess.run(vae_Full.z_mean,feed_dict={vae_Full.x:z1_in})\n",
    "\n",
    "#z_depth_out=sess.run(vae_Full.x_reconstr_mean,feed_dict={vae_Full.x:z1_in})[0:1,50:100]\n",
    "depth_out=sess.run(vae_depth.x_reconstr_mean,feed_dict={vae_depth.x:Depth_input[2000:2001]})\n",
    "#[:,50:100]\n",
    "#depth_mean=sess.run(vae_depth.x_reconstr_mean,feed_dict={vae_depth.z:z1})#[:,50:100]\n",
    "#depth_var=sess.run(vae_depth.,feed_dict={vae_depth.z:z1})\n",
    "#z2_depth=sess.run(vae_depth.z_mean,feed_dict={vae_depth.x:Depth_input[10000:10001]*0})\n",
    "#z2_rgb=sess.run(vae_rgb.z_mean,feed_dict={vae_rgb.x:RGB_input[10000:10001]})\n",
    "#z2_sem=sess.run(vae_Sem.z_mean,feed_dict={vae_Sem.x:Sem_input[10000:10001]*0})\n",
    "#z2_in=np.concatenate((z2_rgb,z2_depth,z2_sem),axis=1)\n",
    "#z2=sess.run(vae_Full.z_mean,feed_dict={vae_Full.x:z2_in})#[:,50:100]\n",
    "#depth_mean2=sess.run(vae_depth.x_reconstr_mean,feed_dict={vae_depth.z:z2})#[:,50:100]\n",
    "\"\"\"\n",
    "z2_in=np.concatenate((z2_rgb,z2_depth,z2_sem),axis=1)\n",
    "z2=sess.run(vae_Full.z,feed_dict={vae_Full.x:z2_in})\n",
    "z3_depth=sess.run(vae_depth.z_mean,feed_dict={vae_depth.x:Depth_input[0:1]*0})\n",
    "z3_rgb=sess.run(vae_rgb.z_mean,feed_dict={vae_rgb.x:RGB_input[0:1]})\n",
    "z3_sem=sess.run(vae_Sem.z_mean,feed_dict={vae_Sem.x:Sem_input[0:1]})\n",
    "z3_in=np.concatenate((z3_rgb,z3_depth,z3_sem),axis=1)\n",
    "z3=sess.run(vae_Full.z_mean,feed_dict={vae_Full.x:z3_in})\n",
    "z4_depth=sess.run(vae_depth.z_mean,feed_dict={vae_depth.x:Depth_input[10000:10001]*0})\n",
    "z4_rgb=sess.run(vae_rgb.z_mean,feed_dict={vae_rgb.x:RGB_input[10000:10001]})\n",
    "z4_sem=sess.run(vae_Sem.z_mean,feed_dict={vae_Sem.x:Sem_input[10000:10001]})\n",
    "z4_in=np.concatenate((z4_rgb,z4_depth,z4_sem),axis=1)\n",
    "z4=sess.run(vae_Full.z_mean,feed_dict={vae_Full.x:z4_in})\n",
    "z5_depth=sess.run(vae_depth.z_mean,feed_dict={vae_depth.x:Depth_input[0:1]})\n",
    "z5_rgb=sess.run(vae_rgb.z_mean,feed_dict={vae_rgb.x:RGB_input[0:1]})\n",
    "z5_sem=sess.run(vae_Sem.z_mean,feed_dict={vae_Sem.x:Sem_input[0:1]})\n",
    "z5_in=np.concatenate((z5_rgb,z5_depth,z5_sem),axis=1)\n",
    "z5=sess.run(vae_Full.z_mean,feed_dict={vae_Full.x:z5_in})\n",
    "z6_depth=sess.run(vae_depth.z_mean,feed_dict={vae_depth.x:Depth_input[10000:10001]})\n",
    "z6_rgb=sess.run(vae_rgb.z_mean,feed_dict={vae_rgb.x:RGB_input[10000:10001]})\n",
    "z6_sem=sess.run(vae_Sem.z_mean,feed_dict={vae_Sem.x:Sem_input[10000:10001]})\n",
    "z6_in=np.concatenate((z6_rgb,z6_depth,z6_sem),axis=1)\n",
    "z6=sess.run(vae_Full.z_mean,feed_dict={vae_Full.x:z6_in})\n",
    "\"\"\"\n",
    "sess.close()"
   ]
  },
  {
   "cell_type": "code",
   "execution_count": null,
   "metadata": {
    "collapsed": true
   },
   "outputs": [],
   "source": [
    "%matplotlib inline"
   ]
  },
  {
   "cell_type": "code",
   "execution_count": null,
   "metadata": {},
   "outputs": [],
   "source": [
    "plt.imshow(depth_out[0].reshape(18,60),cmap='jet')"
   ]
  },
  {
   "cell_type": "code",
   "execution_count": 119,
   "metadata": {},
   "outputs": [
    {
     "data": {
      "text/plain": [
       "(30602, 18, 60, 1)"
      ]
     },
     "execution_count": 119,
     "metadata": {},
     "output_type": "execute_result"
    }
   ],
   "source": [
    "depth_data.shape"
   ]
  },
  {
   "cell_type": "code",
   "execution_count": 144,
   "metadata": {},
   "outputs": [
    {
     "data": {
      "text/plain": [
       "<matplotlib.image.AxesImage at 0x1816366f98>"
      ]
     },
     "execution_count": 144,
     "metadata": {},
     "output_type": "execute_result"
    },
    {
     "data": {
      "image/png": "[encoded data removed]",
      "text/plain": [
       "<matplotlib.figure.Figure at 0x19cf1b8c50>"
      ]
     },
     "metadata": {},
     "output_type": "display_data"
    }
   ],
   "source": [
    "plt.imshow(depth_data[1000,:,:,0])#,cmap='jet')"
   ]
  },
  {
   "cell_type": "code",
   "execution_count": 39,
   "metadata": {},
   "outputs": [
    {
     "data": {
      "text/plain": [
       "'/Users/yi/Desktop/yi/project/bitbucket/mae_tensorflow'"
      ]
     },
     "execution_count": 39,
     "metadata": {},
     "output_type": "execute_result"
    }
   ],
   "source": [
    "pwd"
   ]
  },
  {
   "cell_type": "code",
   "execution_count": 38,
   "metadata": {},
   "outputs": [
    {
     "data": {
      "image/png": "[encoded data removed]",
      "text/plain": [
       "<matplotlib.figure.Figure at 0x199b3bc7f0>"
      ]
     },
     "metadata": {},
     "output_type": "display_data"
    }
   ],
   "source": [
    "f, (ax1, ax2, ax3) = plt.subplots(3,figsize=(6,8), sharex=True, sharey=True)\n",
    "ax1.scatter(z1[:,0],z1[:,1],c='b')\n",
    "ax1.scatter(z2[:,0],z2[:,1],c='g')\n",
    "ax1.set_title('scene1 : scene2')\n",
    "ax2.scatter(z3[:,0],z3[:,1],c='b')\n",
    "ax2.scatter(z4[:,0],z4[:,1],c='g')\n",
    "ax3.scatter(z5[:,0],z5[:,1],c='b')\n",
    "ax3.scatter(z6[:,0],z6[:,1],c='g')\n",
    "# Fine-tune figure; make subplots close to each other and hide x ticks for\n",
    "# all but bottom plot.\n",
    "f.subplots_adjust(hspace=0)\n",
    "plt.setp([a.get_xticklabels() for a in f.axes[:-1]], visible=False)\n",
    "plt.savefig('scene1_2_training.png')"
   ]
  },
  {
   "cell_type": "code",
   "execution_count": 29,
   "metadata": {},
   "outputs": [
    {
     "data": {
      "image/png": "[encoded data removed]",
      "text/plain": [
       "<matplotlib.figure.Figure at 0x199ab567f0>"
      ]
     },
     "metadata": {},
     "output_type": "display_data"
    }
   ],
   "source": [
    "plt.figure(figsize=(5,5)) \n",
    "#plt.scatter(z1[:,0],z1[:,1],c='b')# RGBDS\n",
    "plt.title('RGB_scene1_vs.scene2')\n",
    "#plt.scatter(z2[:,0],z2[:,1],c='g')#RGB\n",
    "plt.scatter(z3[:,0],z3[:,1],c='b')# RGBS\n",
    "plt.scatter(z4[:,0],z4[:,1],c='g')\n",
    "#plt.colorbar()\n",
    "plt.grid()\n",
    "#plt.savefig('rgbs.png')"
   ]
  },
  {
   "cell_type": "code",
   "execution_count": 8,
   "metadata": {},
   "outputs": [
    {
     "data": {
      "image/png": "[encoded data removed]",
      "text/plain": [
       "<matplotlib.figure.Figure at 0x199ab3ee48>"
      ]
     },
     "metadata": {},
     "output_type": "display_data"
    }
   ],
   "source": [
    "plt.figure(figsize=(8,6)) \n",
    "plt.scatter(z1[:,0],z1[:,1],c='b')# RGBDS\n",
    "plt.scatter(z2[:,0],z2[:,1],c='g')#RGB\n",
    "#plt.scatter(z3[:,0],z3[:,1],c='r')# RGBS\n",
    "#plt.scatter(z4[:,0],z4[:,1],c='r')\n",
    "#plt.colorbar()\n",
    "plt.grid()"
   ]
  },
  {
   "cell_type": "code",
   "execution_count": null,
   "metadata": {
    "collapsed": true
   },
   "outputs": [],
   "source": []
  }
 ],
 "metadata": {
  "kernelspec": {
   "display_name": "Python 3",
   "language": "python",
   "name": "python3"
  },
  "language_info": {
   "codemirror_mode": {
    "name": "ipython",
    "version": 3
   },
   "file_extension": ".py",
   "mimetype": "text/x-python",
   "name": "python",
   "nbconvert_exporter": "python",
   "pygments_lexer": "ipython3",
   "version": "3.6.3"
  }
 },
 "nbformat": 4,
 "nbformat_minor": 2
}
