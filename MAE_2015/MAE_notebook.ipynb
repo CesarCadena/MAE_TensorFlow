{
 "cells": [
  {
   "cell_type": "code",
   "execution_count": 1,
   "metadata": {
    "collapsed": false
   },
   "outputs": [],
   "source": [
    "import matplotlib.pyplot as plt\n",
    "import tensorflow as tf\n",
    "import numpy as np\n",
    "import gc\n",
    "import sys\n",
    "sys.path.append('./tools')\n",
    "\n",
    "from load_data import load_split_data, load_set_data, load_test_frames, load_frames_data\n",
    "from input_distortion import input_distortion,pretraining_input_distortion\n",
    "from basic_routines import horizontal_mirroring\n",
    "from visualization import print_training_frames\n",
    "from copy import copy\n",
    "\n",
    "from PretrainingMAE import PretrainingMAE\n",
    "from MAE import MAE"
   ]
  },
  {
   "cell_type": "code",
   "execution_count": 2,
   "metadata": {
    "collapsed": false
   },
   "outputs": [],
   "source": [
    "# Load data for training\n",
    "train_seq, val_seq, test_seq = load_split_data() \n",
    "\n",
    "data_train = load_set_data(train_seq)\n",
    "data_val = load_set_data(val_seq)"
   ]
  },
  {
   "cell_type": "code",
   "execution_count": 3,
   "metadata": {
    "collapsed": false
   },
   "outputs": [],
   "source": [
    "# Define models for Pretraining\n",
    "pretraining =  PretrainingMAE(data_train,data_val)\n",
    "del data_train, data_val"
   ]
  },
  {
   "cell_type": "code",
   "execution_count": 4,
   "metadata": {
    "collapsed": false
   },
   "outputs": [
    {
     "name": "stdout",
     "output_type": "stream",
     "text": [
      "----------------------------------------------------------------\n",
      "('Epoch', 0, 'completed out of', 4)\n",
      "('Training Loss (per epoch): ', 602519.69)\n",
      "('Validation Loss (per pixel): ', 0.014684399366378784)\n",
      "('Epoch Time [seconds]:', 27)\n",
      "-----------------------------------------------------------------\n",
      "----------------------------------------------------------------\n",
      "('Epoch', 1, 'completed out of', 4)\n",
      "('Training Loss (per epoch): ', 349845.44)\n",
      "('Validation Loss (per pixel): ', 0.011548793315887452)\n",
      "('Epoch Time [seconds]:', 28)\n",
      "-----------------------------------------------------------------\n",
      "----------------------------------------------------------------\n",
      "('Epoch', 2, 'completed out of', 4)\n",
      "('Training Loss (per epoch): ', 284083.59)\n",
      "('Validation Loss (per pixel): ', 0.0099363476037979126)\n",
      "('Epoch Time [seconds]:', 27)\n",
      "-----------------------------------------------------------------\n",
      "----------------------------------------------------------------\n",
      "('Epoch', 3, 'completed out of', 4)\n",
      "('Training Loss (per epoch): ', 245812.91)\n",
      "('Validation Loss (per pixel): ', 0.0090974050760269168)\n",
      "('Epoch Time [seconds]:', 30)\n",
      "-----------------------------------------------------------------\n",
      "SAVED MODEL\n",
      "INFO:tensorflow:Summary name Epoch Loss Green Channel is illegal; using Epoch_Loss_Green_Channel instead.\n"
     ]
    },
    {
     "name": "stderr",
     "output_type": "stream",
     "text": [
      "INFO:tensorflow:Summary name Epoch Loss Green Channel is illegal; using Epoch_Loss_Green_Channel instead.\n"
     ]
    },
    {
     "name": "stdout",
     "output_type": "stream",
     "text": [
      "INFO:tensorflow:Summary name Validation Loss Green Channel is illegal; using Validation_Loss_Green_Channel instead.\n"
     ]
    },
    {
     "name": "stderr",
     "output_type": "stream",
     "text": [
      "INFO:tensorflow:Summary name Validation Loss Green Channel is illegal; using Validation_Loss_Green_Channel instead.\n"
     ]
    },
    {
     "name": "stdout",
     "output_type": "stream",
     "text": [
      "----------------------------------------------------------------\n",
      "('Epoch', 0, 'completed out of', 4)\n",
      "('Training Loss (per epoch): ', 601605.62)\n",
      "('Validation Loss (per pixel): ', 0.013654783964157105)\n",
      "('Epoch Time [seconds]:', 27)\n",
      "-----------------------------------------------------------------\n",
      "----------------------------------------------------------------\n",
      "('Epoch', 1, 'completed out of', 4)\n",
      "('Training Loss (per epoch): ', 340315.78)\n",
      "('Validation Loss (per pixel): ', 0.010959392786026001)\n",
      "('Epoch Time [seconds]:', 26)\n",
      "-----------------------------------------------------------------\n",
      "----------------------------------------------------------------\n",
      "('Epoch', 2, 'completed out of', 4)\n",
      "('Training Loss (per epoch): ', 274751.78)\n",
      "('Validation Loss (per pixel): ', 0.0093265092372894279)\n",
      "('Epoch Time [seconds]:', 27)\n",
      "-----------------------------------------------------------------\n",
      "----------------------------------------------------------------\n",
      "('Epoch', 3, 'completed out of', 4)\n",
      "('Training Loss (per epoch): ', 236391.44)\n",
      "('Validation Loss (per pixel): ', 0.0083670055866241454)\n",
      "('Epoch Time [seconds]:', 26)\n",
      "-----------------------------------------------------------------\n",
      "SAVED MODEL\n",
      "INFO:tensorflow:Summary name Epoch Loss Blue Channel is illegal; using Epoch_Loss_Blue_Channel instead.\n"
     ]
    },
    {
     "name": "stderr",
     "output_type": "stream",
     "text": [
      "INFO:tensorflow:Summary name Epoch Loss Blue Channel is illegal; using Epoch_Loss_Blue_Channel instead.\n"
     ]
    },
    {
     "name": "stdout",
     "output_type": "stream",
     "text": [
      "INFO:tensorflow:Summary name Validation Loss Blue Channel is illegal; using Validation_Loss_Blue_Channel instead.\n"
     ]
    },
    {
     "name": "stderr",
     "output_type": "stream",
     "text": [
      "INFO:tensorflow:Summary name Validation Loss Blue Channel is illegal; using Validation_Loss_Blue_Channel instead.\n"
     ]
    },
    {
     "name": "stdout",
     "output_type": "stream",
     "text": [
      "----------------------------------------------------------------\n",
      "('Epoch', 0, 'completed out of', 4)\n",
      "('Training Loss (per epoch): ', 631365.31)\n",
      "('Validation Loss (per pixel): ', 0.014441198110580445)\n",
      "('Epoch Time [seconds]:', 27)\n",
      "-----------------------------------------------------------------\n",
      "----------------------------------------------------------------\n",
      "('Epoch', 1, 'completed out of', 4)\n",
      "('Training Loss (per epoch): ', 348853.78)\n",
      "('Validation Loss (per pixel): ', 0.011237978935241699)\n",
      "('Epoch Time [seconds]:', 26)\n",
      "-----------------------------------------------------------------\n",
      "----------------------------------------------------------------\n",
      "('Epoch', 2, 'completed out of', 4)\n",
      "('Training Loss (per epoch): ', 277665.47)\n",
      "('Validation Loss (per pixel): ', 0.0095881867408752434)\n",
      "('Epoch Time [seconds]:', 27)\n",
      "-----------------------------------------------------------------\n",
      "----------------------------------------------------------------\n",
      "('Epoch', 3, 'completed out of', 4)\n",
      "('Training Loss (per epoch): ', 239001.53)\n",
      "('Validation Loss (per pixel): ', 0.0085049504041671761)\n",
      "('Epoch Time [seconds]:', 26)\n",
      "-----------------------------------------------------------------\n",
      "SAVED MODEL\n"
     ]
    }
   ],
   "source": [
    "# Pretraing RGB Channels independently\n",
    "pretraining.pretrain_red_channel()\n",
    "pretraining.pretrain_green_channel()\n",
    "pretraining.pretrain_blue_channel()"
   ]
  },
  {
   "cell_type": "code",
   "execution_count": 4,
   "metadata": {
    "collapsed": false
   },
   "outputs": [
    {
     "name": "stdout",
     "output_type": "stream",
     "text": [
      "Depth Pretraining\n",
      "----------------------------------------------------------------\n",
      "('Epoch', 0, 'completed out of', 4)\n",
      "('Training Loss (per epoch): ', 16492.6)\n",
      "('Validation Loss (per pixel): ', 0.00057366988497685933)\n",
      "('Epoch Time [seconds]:', 28)\n",
      "-----------------------------------------------------------------\n",
      "----------------------------------------------------------------\n",
      "('Epoch', 1, 'completed out of', 4)\n",
      "('Training Loss (per epoch): ', 9082.3047)\n",
      "('Validation Loss (per pixel): ', 0.00045818344359549825)\n",
      "('Epoch Time [seconds]:', 29)\n",
      "-----------------------------------------------------------------\n",
      "----------------------------------------------------------------\n",
      "('Epoch', 2, 'completed out of', 4)\n",
      "('Training Loss (per epoch): ', 7665.4785)\n",
      "('Validation Loss (per pixel): ', 0.00040907602124903928)\n",
      "('Epoch Time [seconds]:', 25)\n",
      "-----------------------------------------------------------------\n",
      "----------------------------------------------------------------\n",
      "('Epoch', 3, 'completed out of', 4)\n",
      "('Training Loss (per epoch): ', 6979.6899)\n",
      "('Validation Loss (per pixel): ', 0.00039195179596492876)\n",
      "('Epoch Time [seconds]:', 27)\n",
      "-----------------------------------------------------------------\n",
      "SAVED MODEL\n"
     ]
    }
   ],
   "source": [
    "# Pretraing Inverse-Depth Channel\n",
    "pretraining.pretrain_depth_channel()"
   ]
  },
  {
   "cell_type": "code",
   "execution_count": 5,
   "metadata": {
    "collapsed": false
   },
   "outputs": [
    {
     "name": "stdout",
     "output_type": "stream",
     "text": [
      "----------------------------------------------------------------\n",
      "('Epoch', 0, 'completed out of', 4)\n",
      "('Training Loss (per epoch): ', 878627.12)\n",
      "('Validation Loss (per pixel): ', 0.015781185626983642)\n",
      "('Epoch Time [seconds]:', 27)\n",
      "-----------------------------------------------------------------\n",
      "----------------------------------------------------------------\n",
      "('Epoch', 1, 'completed out of', 4)\n",
      "('Training Loss (per epoch): ', 464611.56)\n",
      "('Validation Loss (per pixel): ', 0.012044731378555298)\n",
      "('Epoch Time [seconds]:', 26)\n",
      "-----------------------------------------------------------------\n",
      "----------------------------------------------------------------\n",
      "('Epoch', 2, 'completed out of', 4)\n",
      "('Training Loss (per epoch): ', 372133.97)\n",
      "('Validation Loss (per pixel): ', 0.010047396421432495)\n",
      "('Epoch Time [seconds]:', 27)\n",
      "-----------------------------------------------------------------\n",
      "----------------------------------------------------------------\n",
      "('Epoch', 3, 'completed out of', 4)\n",
      "('Training Loss (per epoch): ', 319144.47)\n",
      "('Validation Loss (per pixel): ', 0.0085809063911437989)\n",
      "('Epoch Time [seconds]:', 26)\n",
      "-----------------------------------------------------------------\n",
      "SAVED MODEL\n",
      "----------------------------------------------------------------\n",
      "('Epoch', 0, 'completed out of', 4)\n",
      "('Training Loss (per epoch): ', 1679727.6)\n",
      "('Validation Loss (per pixel): ', 0.049077959060668946)\n",
      "('Epoch Time [seconds]:', 28)\n",
      "-----------------------------------------------------------------\n",
      "----------------------------------------------------------------\n",
      "('Epoch', 1, 'completed out of', 4)\n",
      "('Training Loss (per epoch): ', 1265041.2)\n",
      "('Validation Loss (per pixel): ', 0.04574666976928711)\n",
      "('Epoch Time [seconds]:', 27)\n",
      "-----------------------------------------------------------------\n",
      "----------------------------------------------------------------\n",
      "('Epoch', 2, 'completed out of', 4)\n",
      "('Training Loss (per epoch): ', 1158500.4)\n",
      "('Validation Loss (per pixel): ', 0.043987913131713866)\n",
      "('Epoch Time [seconds]:', 28)\n",
      "-----------------------------------------------------------------\n",
      "----------------------------------------------------------------\n",
      "('Epoch', 3, 'completed out of', 4)\n",
      "('Training Loss (per epoch): ', 1096902.6)\n",
      "('Validation Loss (per pixel): ', 0.043013663291931153)\n",
      "('Epoch Time [seconds]:', 26)\n",
      "-----------------------------------------------------------------\n",
      "SAVED MODEL\n",
      "----------------------------------------------------------------\n",
      "('Epoch', 0, 'completed out of', 4)\n",
      "('Training Loss (per epoch): ', 1887513.4)\n",
      "('Validation Loss (per pixel): ', 0.045018539428710938)\n",
      "('Epoch Time [seconds]:', 27)\n",
      "-----------------------------------------------------------------\n",
      "----------------------------------------------------------------\n",
      "('Epoch', 1, 'completed out of', 4)\n",
      "('Training Loss (per epoch): ', 1016346.3)\n",
      "('Validation Loss (per pixel): ', 0.038236274719238281)\n",
      "('Epoch Time [seconds]:', 26)\n",
      "-----------------------------------------------------------------\n",
      "----------------------------------------------------------------\n",
      "('Epoch', 2, 'completed out of', 4)\n",
      "('Training Loss (per epoch): ', 837067.06)\n",
      "('Validation Loss (per pixel): ', 0.035278501510620119)\n",
      "('Epoch Time [seconds]:', 28)\n",
      "-----------------------------------------------------------------\n",
      "----------------------------------------------------------------\n",
      "('Epoch', 3, 'completed out of', 4)\n",
      "('Training Loss (per epoch): ', 771159.25)\n",
      "('Validation Loss (per pixel): ', 0.033361420631408692)\n",
      "('Epoch Time [seconds]:', 26)\n",
      "-----------------------------------------------------------------\n",
      "SAVED MODEL\n",
      "----------------------------------------------------------------\n",
      "('Epoch', 0, 'completed out of', 4)\n",
      "('Training Loss (per epoch): ', 1806494.1)\n",
      "('Validation Loss (per pixel): ', 0.042009563446044923)\n",
      "('Epoch Time [seconds]:', 29)\n",
      "-----------------------------------------------------------------\n",
      "----------------------------------------------------------------\n",
      "('Epoch', 1, 'completed out of', 4)\n",
      "('Training Loss (per epoch): ', 1060314.8)\n",
      "('Validation Loss (per pixel): ', 0.031927459239959717)\n",
      "('Epoch Time [seconds]:', 26)\n",
      "-----------------------------------------------------------------\n",
      "----------------------------------------------------------------\n",
      "('Epoch', 2, 'completed out of', 4)\n",
      "('Training Loss (per epoch): ', 852358.69)\n",
      "('Validation Loss (per pixel): ', 0.026630868911743166)\n",
      "('Epoch Time [seconds]:', 27)\n",
      "-----------------------------------------------------------------\n",
      "----------------------------------------------------------------\n",
      "('Epoch', 3, 'completed out of', 4)\n",
      "('Training Loss (per epoch): ', 735912.25)\n",
      "('Validation Loss (per pixel): ', 0.023371458053588867)\n",
      "('Epoch Time [seconds]:', 26)\n",
      "-----------------------------------------------------------------\n",
      "SAVED MODEL\n",
      "----------------------------------------------------------------\n",
      "('Epoch', 0, 'completed out of', 4)\n",
      "('Training Loss (per epoch): ', 1173472.8)\n",
      "('Validation Loss (per pixel): ', 0.01487687110900879)\n",
      "('Epoch Time [seconds]:', 28)\n",
      "-----------------------------------------------------------------\n",
      "----------------------------------------------------------------\n",
      "('Epoch', 1, 'completed out of', 4)\n",
      "('Training Loss (per epoch): ', 583369.62)\n",
      "('Validation Loss (per pixel): ', 0.0093374919891357419)\n",
      "('Epoch Time [seconds]:', 26)\n",
      "-----------------------------------------------------------------\n",
      "----------------------------------------------------------------\n",
      "('Epoch', 2, 'completed out of', 4)\n",
      "('Training Loss (per epoch): ', 461938.59)\n",
      "('Validation Loss (per pixel): ', 0.0073663336038589482)\n",
      "('Epoch Time [seconds]:', 27)\n",
      "-----------------------------------------------------------------\n",
      "----------------------------------------------------------------\n",
      "('Epoch', 3, 'completed out of', 4)\n",
      "('Training Loss (per epoch): ', 408234.28)\n",
      "('Validation Loss (per pixel): ', 0.0062568151950836183)\n",
      "('Epoch Time [seconds]:', 27)\n",
      "-----------------------------------------------------------------\n",
      "SAVED MODEL\n"
     ]
    }
   ],
   "source": [
    "# Pretraing Semantic Channels independently\n",
    "pretraining.pretrain_gnd_channel()\n",
    "pretraining.pretrain_obj_channel()\n",
    "pretraining.pretrain_bld_channel()\n",
    "pretraining.pretrain_veg_channel()\n",
    "pretraining.pretrain_sky_channel()"
   ]
  },
  {
   "cell_type": "code",
   "execution_count": 4,
   "metadata": {
    "collapsed": false
   },
   "outputs": [
    {
     "name": "stdout",
     "output_type": "stream",
     "text": [
      "INFO:tensorflow:Restoring parameters from models/pretraining/20171106-110735/pretrained_gnd.ckpt\n"
     ]
    },
    {
     "name": "stderr",
     "output_type": "stream",
     "text": [
      "INFO:tensorflow:Restoring parameters from models/pretraining/20171106-110735/pretrained_gnd.ckpt\n"
     ]
    },
    {
     "name": "stdout",
     "output_type": "stream",
     "text": [
      "INFO:tensorflow:Restoring parameters from models/pretraining/20171106-110735/pretrained_obj.ckpt\n"
     ]
    },
    {
     "name": "stderr",
     "output_type": "stream",
     "text": [
      "INFO:tensorflow:Restoring parameters from models/pretraining/20171106-110735/pretrained_obj.ckpt\n"
     ]
    },
    {
     "name": "stdout",
     "output_type": "stream",
     "text": [
      "INFO:tensorflow:Restoring parameters from models/pretraining/20171106-110735/pretrained_bld.ckpt\n"
     ]
    },
    {
     "name": "stderr",
     "output_type": "stream",
     "text": [
      "INFO:tensorflow:Restoring parameters from models/pretraining/20171106-110735/pretrained_bld.ckpt\n"
     ]
    },
    {
     "name": "stdout",
     "output_type": "stream",
     "text": [
      "INFO:tensorflow:Restoring parameters from models/pretraining/20171106-110735/pretrained_veg.ckpt\n"
     ]
    },
    {
     "name": "stderr",
     "output_type": "stream",
     "text": [
      "INFO:tensorflow:Restoring parameters from models/pretraining/20171106-110735/pretrained_veg.ckpt\n"
     ]
    },
    {
     "name": "stdout",
     "output_type": "stream",
     "text": [
      "INFO:tensorflow:Restoring parameters from models/pretraining/20171106-110735/pretrained_sky.ckpt\n"
     ]
    },
    {
     "name": "stderr",
     "output_type": "stream",
     "text": [
      "INFO:tensorflow:Restoring parameters from models/pretraining/20171106-110735/pretrained_sky.ckpt\n"
     ]
    },
    {
     "name": "stdout",
     "output_type": "stream",
     "text": [
      "('Epoch', 0, 'completed out of', 4)\n",
      "('Training Loss (per epoch): ', 4328814.0)\n",
      "('Validation Loss (per pixel): ', 0.12536055564880372)\n",
      "('Epoch Time [seconds]:', 174)\n",
      "-----------------------------------------------------------------\n",
      "('Epoch', 1, 'completed out of', 4)\n",
      "('Training Loss (per epoch): ', 3464755.2)\n",
      "('Validation Loss (per pixel): ', 0.11711301803588867)\n",
      "('Epoch Time [seconds]:', 172)\n",
      "-----------------------------------------------------------------\n",
      "('Epoch', 2, 'completed out of', 4)\n",
      "('Training Loss (per epoch): ', 3305496.2)\n",
      "('Validation Loss (per pixel): ', 0.11355404853820801)\n",
      "('Epoch Time [seconds]:', 173)\n",
      "-----------------------------------------------------------------\n",
      "('Epoch', 3, 'completed out of', 4)\n",
      "('Training Loss (per epoch): ', 3223224.5)\n",
      "('Validation Loss (per pixel): ', 0.11145906448364258)\n",
      "('Epoch Time [seconds]:', 173)\n",
      "-----------------------------------------------------------------\n",
      "SAVED MODEL\n"
     ]
    }
   ],
   "source": [
    "# Pretraing Semantic AutoEncoder\n",
    "pretraining.pretrain_shared_semantics()"
   ]
  },
  {
   "cell_type": "code",
   "execution_count": null,
   "metadata": {
    "collapsed": false
   },
   "outputs": [],
   "source": [
    "#del pretraining\n",
    "\n",
    "# Load data for training and testing\n",
    "train_seq, val_seq, test_seq = load_split_data()\n",
    "\n",
    "data_train = load_set_data(train_seq)\n",
    "data_val = load_set_data(val_seq)\n",
    "data_test = load_set_data(test_seq)"
   ]
  },
  {
   "cell_type": "code",
   "execution_count": null,
   "metadata": {
    "collapsed": true
   },
   "outputs": [],
   "source": [
    "# Define Full Model\n",
    "mae = MAE()"
   ]
  },
  {
   "cell_type": "code",
   "execution_count": null,
   "metadata": {
    "collapsed": false
   },
   "outputs": [],
   "source": [
    "# Train MultiModal AutoEncoder\n",
    "mae.train_model(data_train,data_val)\n",
    "del data_train, data_val"
   ]
  },
  {
   "cell_type": "code",
   "execution_count": null,
   "metadata": {
    "collapsed": false
   },
   "outputs": [],
   "source": [
    "# Evaluate full MAE\n",
    "mae.evaluate(data_test,run='20171016-131619')"
   ]
  },
  {
   "cell_type": "code",
   "execution_count": null,
   "metadata": {
    "collapsed": false
   },
   "outputs": [],
   "source": [
    "# Load data for testing by frames\n",
    "test_frames = load_test_frames()\n",
    "\n",
    "data_test_frames = load_frames_data(test_frames)"
   ]
  },
  {
   "cell_type": "code",
   "execution_count": null,
   "metadata": {
    "collapsed": false
   },
   "outputs": [],
   "source": [
    "imr_test = []\n",
    "\n",
    "for j in data_test_frames:\n",
    "    imr_test.append(j['xcr']/255.)\n",
    "    \n",
    "print imr_test"
   ]
  },
  {
   "cell_type": "code",
   "execution_count": null,
   "metadata": {
    "collapsed": false
   },
   "outputs": [],
   "source": [
    "# Evaluate full MAE\n",
    "mae.evaluate_per_frame(data_test_frames,run='20171016-131619')"
   ]
  },
  {
   "cell_type": "code",
   "execution_count": null,
   "metadata": {
    "collapsed": false
   },
   "outputs": [],
   "source": [
    "print len(data_test_frames)"
   ]
  },
  {
   "cell_type": "code",
   "execution_count": null,
   "metadata": {
    "collapsed": false
   },
   "outputs": [],
   "source": [
    "imr = np.reshape(data_test_frames[-1]['xcr']/255.,(60,18)).T\n",
    "img = np.reshape(data_test_frames[-1]['xcg']/255.,(60,18)).T\n",
    "imb = np.reshape(data_test_frames[-1]['xcb']/255.,(60,18)).T\n",
    "im = np.dstack((imr,img,imb))\n",
    "\n",
    "imd = np.reshape(data_test_frames[-1]['xid'],(60,18)).T * np.reshape(data_test_frames[1]['xmask'],(60,18)).T\n",
    "\n",
    "ims = np.reshape(data_test_frames[-1]['sem'],(60,18)).T\n",
    "\n",
    "%matplotlib inline\n",
    "\n",
    "fig,axes = plt.subplots(3,1)\n",
    "axes[0].imshow(im)\n",
    "axes[0].set_title('Image')\n",
    "\n",
    "axes[1].imshow(imd)\n",
    "axes[1].set_title('Inverse Depth')\n",
    "\n",
    "axes[2].imshow(ims)\n",
    "axes[2].set_title('Semantics')\n",
    "\n",
    "plt.show()"
   ]
  },
  {
   "cell_type": "code",
   "execution_count": null,
   "metadata": {
    "collapsed": false
   },
   "outputs": [],
   "source": [
    "#a = np.reshape(pretraining.imr_val[0],(60,18))\n",
    "#print a[1]\n",
    "#np.reshape(pretraining.imr_val)\n",
    "#print np.dstack((imr,img,imb)).shape\n",
    "print data_val[0][0]['xcgLeft']\n",
    "\n",
    "x = horizontal_mirroring(data_val[0][0]['xcgLeft'],18,60)\n",
    "\n",
    "print x"
   ]
  },
  {
   "cell_type": "code",
   "execution_count": null,
   "metadata": {
    "collapsed": false
   },
   "outputs": [],
   "source": [
    "'''\n",
    "indmirror = np.linspace(0,18*60-1,18*60).astype(int)\n",
    "indmirror = np.reshape(indmirror,(60,18))\n",
    "indmirror = indmirror.T\n",
    "indmirror = np.fliplr(indmirror)\n",
    "indmirror = indmirror.T\n",
    "indmirror = np.reshape(indmirror,(18*60))\n",
    "'''\n",
    "x = pretraining.imr_train[4,:]#data_val[0][0]['xcgLeft']\n",
    "x1 = pretraining.imr_train[5,:]\n",
    "\n",
    "%matplotlib inline\n",
    "\n",
    "fig,axes = plt.subplots(1,2)\n",
    "axes[0].imshow(np.reshape(x,(60,18)).T)\n",
    "axes[0].set_title('im1')\n",
    "\n",
    "axes[1].imshow(np.reshape(x1,(60,18)).T)\n",
    "axes[1].set_title('im2')\n",
    "\n",
    "plt.show()\n",
    "\n",
    "ind = np.arange(0,10)\n",
    "imr_in = copy(pretraining.imr_train[ind,:])\n",
    "imr_batch = copy(pretraining.imr_train[ind,:])\n",
    "ind_rand_who = np.random.choice(ind,10/2,replace=False)\n",
    "imr_in = horizontal_mirroring(imr_in,ind_rand_who)\n",
    "imr_batch = horizontal_mirroring(imr_batch,ind_rand_who)\n",
    "\n",
    "x = imr_in[4,:]#data_val[0][0]['xcgLeft']\n",
    "x1 = imr_in[5,:]\n",
    "\n",
    "%matplotlib inline\n",
    "\n",
    "fig,axes = plt.subplots(1,2)\n",
    "axes[0].imshow(np.reshape(x,(60,18)).T)\n",
    "axes[0].set_title('im1')\n",
    "\n",
    "axes[1].imshow(np.reshape(x1,(60,18)).T)\n",
    "axes[1].set_title('im2')\n",
    "\n",
    "plt.show()\n"
   ]
  },
  {
   "cell_type": "code",
   "execution_count": null,
   "metadata": {
    "collapsed": false
   },
   "outputs": [],
   "source": []
  },
  {
   "cell_type": "code",
   "execution_count": null,
   "metadata": {
    "collapsed": true
   },
   "outputs": [],
   "source": []
  }
 ],
 "metadata": {
  "kernelspec": {
   "display_name": "Python 2",
   "language": "python",
   "name": "python2"
  },
  "language_info": {
   "codemirror_mode": {
    "name": "ipython",
    "version": 2
   },
   "file_extension": ".py",
   "mimetype": "text/x-python",
   "name": "python",
   "nbconvert_exporter": "python",
   "pygments_lexer": "ipython2",
   "version": "2.7.6"
  }
 },
 "nbformat": 4,
 "nbformat_minor": 0
}
