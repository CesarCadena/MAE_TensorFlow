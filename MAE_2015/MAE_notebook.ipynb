{
 "cells": [
  {
   "cell_type": "code",
   "execution_count": 1,
   "metadata": {
    "collapsed": false
   },
   "outputs": [],
   "source": [
    "import matplotlib.pyplot as plt\n",
    "import tensorflow as tf\n",
    "import numpy as np\n",
    "import gc\n",
    "import sys\n",
    "sys.path.append('./tools')\n",
    "\n",
    "from load_data import load_data, load_split_data, load_set_data\n",
    "from input_distortion import input_distortion,pretraining_input_distortion\n",
    "from visualization import print_training_frames\n",
    "from copy import copy\n",
    "\n",
    "from PretrainingMAE import PretrainingMAE\n",
    "from MAE import MAE"
   ]
  },
  {
   "cell_type": "code",
   "execution_count": null,
   "metadata": {
    "collapsed": false
   },
   "outputs": [],
   "source": [
    "# Load data for training\n",
    "train_seq, val_seq, test_seq = load_split_data()\n",
    "\n",
    "data_train = load_set_data(train_seq)\n",
    "data_val = load_set_data(val_seq)"
   ]
  },
  {
   "cell_type": "code",
   "execution_count": null,
   "metadata": {
    "collapsed": false
   },
   "outputs": [],
   "source": [
    "# Define models for Pretraining\n",
    "pretraining =  PretrainingMAE(data_train,data_val)\n",
    "del data_train, data_val"
   ]
  },
  {
   "cell_type": "code",
   "execution_count": null,
   "metadata": {
    "collapsed": false
   },
   "outputs": [],
   "source": [
    "# Pretraing RGB Channels independently\n",
    "pretraining.pretrain_red_channel()\n",
    "pretraining.pretrain_green_channel()\n",
    "pretraining.pretrain_blue_channel()"
   ]
  },
  {
   "cell_type": "code",
   "execution_count": null,
   "metadata": {
    "collapsed": false
   },
   "outputs": [],
   "source": [
    "# Pretraing Inverse-Depth Channel\n",
    "pretraining.pretrain_depth_channel()"
   ]
  },
  {
   "cell_type": "code",
   "execution_count": null,
   "metadata": {
    "collapsed": true
   },
   "outputs": [],
   "source": [
    "# Pretraing Semantic Channels independently\n",
    "pretraining.pretrain_gnd_channel()\n",
    "pretraining.pretrain_obj_channel()\n",
    "pretraining.pretrain_bld_channel()\n",
    "pretraining.pretrain_veg_channel()\n",
    "pretraining.pretrain_sky_channel()"
   ]
  },
  {
   "cell_type": "code",
   "execution_count": null,
   "metadata": {
    "collapsed": false
   },
   "outputs": [],
   "source": [
    "# Pretraing Semantic AutoEncoder\n",
    "pretraining.pretrain_shared_semantics()"
   ]
  },
  {
   "cell_type": "code",
   "execution_count": 2,
   "metadata": {
    "collapsed": false
   },
   "outputs": [],
   "source": [
    "#del pretraining\n",
    "\n",
    "# Load data for training and testing\n",
    "train_seq, val_seq, test_seq = load_split_data()\n",
    "\n",
    "data_train = load_set_data(train_seq)\n",
    "data_val = load_set_data(val_seq)\n",
    "data_test = load_set_data(test_seq)"
   ]
  },
  {
   "cell_type": "code",
   "execution_count": 3,
   "metadata": {
    "collapsed": true
   },
   "outputs": [],
   "source": [
    "# Define Full Model\n",
    "mae = MAE(data_train,data_val,data_test)\n",
    "del data_train, data_val, data_test"
   ]
  },
  {
   "cell_type": "code",
   "execution_count": null,
   "metadata": {
    "collapsed": false
   },
   "outputs": [],
   "source": [
    "# Train MultiModal AutoEncoder\n",
    "mae.train_model()"
   ]
  },
  {
   "cell_type": "code",
   "execution_count": 4,
   "metadata": {
    "collapsed": false
   },
   "outputs": [
    {
     "name": "stdout",
     "output_type": "stream",
     "text": [
      "INFO:tensorflow:Restoring parameters from models/full/20171016-131619/fullmodel.ckpt\n"
     ]
    },
    {
     "name": "stderr",
     "output_type": "stream",
     "text": [
      "INFO:tensorflow:Restoring parameters from models/full/20171016-131619/fullmodel.ckpt\n"
     ]
    },
    {
     "name": "stdout",
     "output_type": "stream",
     "text": [
      "('Size of Test Set:', 18894)\n",
      "('Error (RMS):', 10.32117176574792)\n",
      "('Error (Relative Error):', 0.33716038165288492)\n"
     ]
    }
   ],
   "source": [
    "# Evaluate full MAE\n",
    "mae.evaluate(run='20171016-131619')"
   ]
  },
  {
   "cell_type": "code",
   "execution_count": null,
   "metadata": {
    "collapsed": false
   },
   "outputs": [],
   "source": [
    "print len(data_val[1])"
   ]
  },
  {
   "cell_type": "code",
   "execution_count": null,
   "metadata": {
    "collapsed": false
   },
   "outputs": [],
   "source": [
    "b1 = np.reshape(data_val[1][10]['xcr1']/255.,(60,18)).T\n",
    "b2 = np.reshape(data_val[1][10]['xcr2']/255.,(60,18)).T\n",
    "\n",
    "%matplotlib inline\n",
    "\n",
    "fig,axes = plt.subplots(2,1)\n",
    "axes[0].imshow(b1)\n",
    "axes[0].set_title('Left')\n",
    "\n",
    "axes[1].imshow(b2)\n",
    "axes[1].set_title('Right')\n",
    "\n",
    "plt.show()"
   ]
  },
  {
   "cell_type": "code",
   "execution_count": null,
   "metadata": {
    "collapsed": false
   },
   "outputs": [],
   "source": [
    "#a = np.reshape(pretraining.imr_val[0],(60,18))\n",
    "#print a[1]\n",
    "#np.reshape(pretraining.imr_val)\n",
    "print test_seq"
   ]
  }
 ],
 "metadata": {
  "kernelspec": {
   "display_name": "Python 2",
   "language": "python",
   "name": "python2"
  },
  "language_info": {
   "codemirror_mode": {
    "name": "ipython",
    "version": 2
   },
   "file_extension": ".py",
   "mimetype": "text/x-python",
   "name": "python",
   "nbconvert_exporter": "python",
   "pygments_lexer": "ipython2",
   "version": "2.7.6"
  }
 },
 "nbformat": 4,
 "nbformat_minor": 0
}
