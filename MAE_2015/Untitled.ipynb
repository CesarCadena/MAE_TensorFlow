{
 "cells": [
  {
   "cell_type": "code",
   "execution_count": 1,
   "metadata": {
    "collapsed": false
   },
   "outputs": [],
   "source": [
    "import matplotlib.pyplot as plt\n",
    "import tensorflow as tf\n",
    "import numpy as np\n",
    "import gc\n",
    "import sys\n",
    "sys.path.append('./tools')\n",
    "\n",
    "from load_data import load_data, load_split_data, load_set_data\n",
    "from input_distortion import input_distortion,pretraining_input_distortion\n",
    "from visualization import print_training_frames\n",
    "from copy import copy\n",
    "\n",
    "from PretrainingMAE import PretrainingMAE"
   ]
  },
  {
   "cell_type": "code",
   "execution_count": 2,
   "metadata": {
    "collapsed": false
   },
   "outputs": [],
   "source": [
    "train_seq, val_seq, test_seq = load_split_data()\n",
    "\n",
    "data_train = load_set_data(train_seq)\n",
    "data_val = load_set_data(val_seq)"
   ]
  },
  {
   "cell_type": "code",
   "execution_count": 3,
   "metadata": {
    "collapsed": false
   },
   "outputs": [],
   "source": [
    "pretraining =  PretrainingMAE(data_train,data_val)\n",
    "del data_train, data_val"
   ]
  },
  {
   "cell_type": "code",
   "execution_count": 4,
   "metadata": {
    "collapsed": false
   },
   "outputs": [
    {
     "data": {
      "text/plain": [
       "19"
      ]
     },
     "execution_count": 4,
     "metadata": {},
     "output_type": "execute_result"
    }
   ],
   "source": []
  },
  {
   "cell_type": "code",
   "execution_count": null,
   "metadata": {
    "collapsed": false
   },
   "outputs": [],
   "source": []
  },
  {
   "cell_type": "code",
   "execution_count": null,
   "metadata": {
    "collapsed": false
   },
   "outputs": [],
   "source": [
    "pretraining.pretrain_red_channel()"
   ]
  },
  {
   "cell_type": "code",
   "execution_count": null,
   "metadata": {
    "collapsed": false
   },
   "outputs": [],
   "source": [
    "pretraining.pretrain_depth_channel()"
   ]
  },
  {
   "cell_type": "code",
   "execution_count": null,
   "metadata": {
    "collapsed": true
   },
   "outputs": [],
   "source": [
    "pretraining.pretrain_gnd_channel()"
   ]
  },
  {
   "cell_type": "code",
   "execution_count": null,
   "metadata": {
    "collapsed": false
   },
   "outputs": [],
   "source": [
    "pretraining.pretrain_shared_semantics()"
   ]
  },
  {
   "cell_type": "code",
   "execution_count": null,
   "metadata": {
    "collapsed": false
   },
   "outputs": [],
   "source": [
    "print len(data_val[1])"
   ]
  },
  {
   "cell_type": "code",
   "execution_count": null,
   "metadata": {
    "collapsed": false
   },
   "outputs": [],
   "source": [
    "b1 = np.reshape(data_val[1][10]['xcr1']/255.,(60,18)).T\n",
    "b2 = np.reshape(data_val[1][10]['xcr2']/255.,(60,18)).T\n",
    "\n",
    "%matplotlib inline\n",
    "\n",
    "fig,axes = plt.subplots(2,1)\n",
    "axes[0].imshow(b1)\n",
    "axes[0].set_title('Left')\n",
    "\n",
    "axes[1].imshow(b2)\n",
    "axes[1].set_title('Right')\n",
    "\n",
    "plt.show()"
   ]
  },
  {
   "cell_type": "code",
   "execution_count": null,
   "metadata": {
    "collapsed": false
   },
   "outputs": [],
   "source": [
    "a = np.reshape(pretraining.imr_val[0],(60,18))\n",
    "print a[1]\n",
    "#np.reshape(pretraining.imr_val)"
   ]
  }
 ],
 "metadata": {
  "kernelspec": {
   "display_name": "Python 2",
   "language": "python",
   "name": "python2"
  },
  "language_info": {
   "codemirror_mode": {
    "name": "ipython",
    "version": 2
   },
   "file_extension": ".py",
   "mimetype": "text/x-python",
   "name": "python",
   "nbconvert_exporter": "python",
   "pygments_lexer": "ipython2",
   "version": "2.7.6"
  }
 },
 "nbformat": 4,
 "nbformat_minor": 0
}
