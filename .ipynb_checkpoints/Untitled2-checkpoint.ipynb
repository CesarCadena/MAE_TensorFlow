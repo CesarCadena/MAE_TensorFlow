{
 "cells": [
  {
   "cell_type": "code",
   "execution_count": 1,
   "metadata": {},
   "outputs": [
    {
     "name": "stdout",
     "output_type": "stream",
     "text": [
      "(30602, 18, 60, 1)\n",
      "(30602, 18, 60, 5)\n",
      "(30602, 18, 60, 3)\n",
      "INFO:tensorflow:Restoring parameters from CNN_full/cnn.ckpt\n"
     ]
    }
   ],
   "source": [
    "# %load CNN_full_test.py\n",
    "import tensorflow as tf\n",
    "import numpy as np\n",
    "import os\n",
    "import matplotlib.pyplot as plt\n",
    "import numpy as np\n",
    "import matplotlib.image as mpimg\n",
    "from process_data import  process_data\n",
    "batch_size=20\n",
    "num_epochs=100\n",
    "hidden_size=1024\n",
    "RESTORE=0\n",
    "SEED = None\n",
    "\n",
    "#  load data \n",
    "data_depth=np.load('../depth_data.npy')\n",
    "data_depth=np.transpose(data_depth,(0,2,1,3))# swap the two dimensions\n",
    "print(data_depth.shape)\n",
    "\n",
    "data_sem=np.load('../sem_data.npy')\n",
    "data_sem=np.transpose(data_sem,(0,2,1,3))# swap the two dimensions\n",
    "print(data_sem.shape)\n",
    "\n",
    "data_rgb=np.load('../rgb_data.npy')\n",
    "data_rgb=np.transpose(data_rgb,(0,2,1,3))# swap the two dimensions\n",
    "print(data_rgb.shape)\n",
    "\n",
    "\n",
    "\n",
    "# Encoder\n",
    "\n",
    "inputs_depth= tf.placeholder(tf.float32,(None, 18,60,1), name=\"input_depth\")\n",
    "outputs_depth=tf.placeholder(tf.float32,(None, 18,60,1), name=\"ouput_depth\")\n",
    "\n",
    "inputs_sem= tf.placeholder(tf.float32,(None, 18,60,5), name=\"input_sem\")\n",
    "outputs_sem=tf.placeholder(tf.float32,(None, 18,60,5), name=\"ouput_sem\")\n",
    "\n",
    "inputs_rgb=tf.placeholder(tf.float32,(None, 18,60,3), name=\"input_rgb\")\n",
    "outputs_rgb=tf.placeholder(tf.float32,(None, 18,60,3), name=\"ouput_rgb\")\n",
    "\n",
    "############################## Depth #############################\n",
    "conv1_depth=tf.layers.conv2d(inputs=inputs_depth,filters=16,kernel_size=(3,3),padding='same',\n",
    "                       activation=tf.nn.relu)\n",
    "#now (batch,18,60,16)\n",
    "\n",
    "pool1_depth=tf.layers.max_pooling2d(conv1_depth,pool_size=(2,2),strides=(2,2),padding='same')\n",
    "#now (batch,9,30,16)\n",
    "\n",
    "conv2_depth=tf.layers.conv2d(inputs=pool1_depth,filters=8,kernel_size=(3,3),padding='same',\n",
    "                       activation=tf.nn.relu)\n",
    "# now (batch,9,30,8)\n",
    "\n",
    "pool2_depth=tf.layers.max_pooling2d(conv2_depth,pool_size=(2,2),strides=(2,2),padding='same')\n",
    "#now (batch,5,15,8)\n",
    "\n",
    "################################## Semantic #################################################\n",
    "\n",
    "conv1_sem=tf.layers.conv2d(inputs=inputs_sem,filters=16,kernel_size=(3,3),padding='same',\n",
    "                       activation=tf.nn.relu)\n",
    "#now (batch,18,60,16)\n",
    "\n",
    "pool1_sem=tf.layers.max_pooling2d(conv1_sem,pool_size=(2,2),strides=(2,2),padding='same')\n",
    "#now (batch,9,30,16)\n",
    "\n",
    "conv2_sem=tf.layers.conv2d(inputs=pool1_sem,filters=8,kernel_size=(3,3),padding='same',\n",
    "                       activation=tf.nn.relu)\n",
    "# now (batch,9,30,8)\n",
    "\n",
    "pool2_sem=tf.layers.max_pooling2d(conv2_sem,pool_size=(2,2),strides=(2,2),padding='same')\n",
    "#now (batch,5,15,8)\n",
    "####################################  RGB  ###############################################\n",
    "conv1_rgb=tf.layers.conv2d(inputs=inputs_rgb,filters=16,kernel_size=(3,3),padding='same',\n",
    "                       activation=tf.nn.relu)\n",
    "#now (batch,18,60,16)\n",
    "\n",
    "pool1_rgb=tf.layers.max_pooling2d(conv1_rgb,pool_size=(2,2),strides=(2,2),padding='same')\n",
    "#now (batch,9,30,16)\n",
    "\n",
    "conv2_rgb=tf.layers.conv2d(inputs=pool1_rgb,filters=8,kernel_size=(3,3),padding='same',\n",
    "                       activation=tf.nn.relu)\n",
    "# now (batch,9,30,8)\n",
    "\n",
    "pool2_rgb=tf.layers.max_pooling2d(conv2_rgb,pool_size=(2,2),strides=(2,2),padding='same')\n",
    "#now (batch,5,15,8)\n",
    "\n",
    "\n",
    "\n",
    "####Modalities Fusion\n",
    "\n",
    "flat_hidden_sem=tf.reshape(pool2_sem,[-1,600])\n",
    "flat_hidden_depth=tf.reshape(pool2_depth,[-1,600])\n",
    "flat_hidden_rgb=tf.reshape(pool2_rgb,[-1,600])\n",
    "########## Define Parameters #########\n",
    "weights_in=tf.Variable(tf.random_normal(shape=[1800,1024],\n",
    "                                   stddev=0.01),name=\"weights_in\")\n",
    "bias_in=tf.Variable(tf.zeros([1,1024]),name=\"bias_in\")\n",
    "\n",
    "# full shared units\n",
    "flat_full=tf.concat([flat_hidden_rgb,flat_hidden_depth,flat_hidden_sem],axis=1)\n",
    "full_hidden=tf.nn.relu(tf.matmul(flat_full,weights_in)+bias_in)\n",
    "\n",
    "weights_out=tf.Variable(tf.random_normal(shape=[1024,1800],\n",
    "                                   stddev=0.01),name=\"weights_in\")\n",
    "bias_out=tf.Variable(tf.zeros([1,1800]),name=\"bias_in\")\n",
    "\n",
    "flat_full_out=tf.nn.relu(tf.matmul(full_hidden,weights_out)+bias_out)\n",
    "\n",
    "\n",
    "hidden_rgb_out,hidden_depth_out,hidden_sem_out=tf.split(flat_full_out,num_or_size_splits=3,axis=1)\n",
    "\n",
    "\n",
    "pool2_depth_out=tf.reshape(hidden_depth_out,[-1,5,15,8])\n",
    "pool2_sem_out=tf.reshape(hidden_sem_out,[-1,5,15,8])\n",
    "pool2_rgb_out=tf.reshape(hidden_rgb_out,[-1,5,15,8])\n",
    "\n",
    "##Decoder\n",
    "\n",
    "### Decoder using high level modules \n",
    "upsample1_depth=tf.image.resize_images(pool2_depth_out,size=(9,30),\n",
    "                                 method=tf.image.ResizeMethod.NEAREST_NEIGHBOR)\n",
    "# now (batch,9,30,8)\n",
    "conv4_depth=tf.layers.conv2d(inputs=upsample1_depth,filters=16,kernel_size=(3,3),padding='same',\n",
    "                       activation=tf.nn.relu)\n",
    "#now (batch,9,30,8)\n",
    "\n",
    "upsample2_depth= tf.image.resize_images(conv4_depth, size=(18,60),\n",
    "                                   method=tf.image.ResizeMethod.NEAREST_NEIGHBOR)\n",
    "#now (batch,18,60,8)\n",
    "out_depth=tf.layers.conv2d(inputs=upsample2_depth,filters=1,kernel_size=(3,3),padding='same',\n",
    "                       activation=tf.nn.relu)\n",
    "\n",
    "################################################\n",
    "\n",
    "upsample1_sem=tf.image.resize_images(pool2_sem_out,size=(9,30),\n",
    "                                 method=tf.image.ResizeMethod.NEAREST_NEIGHBOR)\n",
    "# now (batch,9,30,8)\n",
    "conv4_sem=tf.layers.conv2d(inputs=upsample1_sem,filters=16,kernel_size=(3,3),padding='same',\n",
    "                       activation=tf.nn.relu)\n",
    "#now (batch,9,30,8)\n",
    "\n",
    "upsample2_sem= tf.image.resize_images(conv4_sem, size=(18,60),\n",
    "                                   method=tf.image.ResizeMethod.NEAREST_NEIGHBOR)\n",
    "#now (batch,18,60,8)\n",
    "out_sem=tf.layers.conv2d(inputs=upsample2_sem,filters=5,kernel_size=(3,3),padding='same',\n",
    "                       activation=tf.nn.relu)\n",
    "##################################################\n",
    "\n",
    "\n",
    "upsample1_rgb=tf.image.resize_images(pool2_rgb_out,size=(9,30),\n",
    "                                 method=tf.image.ResizeMethod.NEAREST_NEIGHBOR)\n",
    "# now (batch,9,30,8)\n",
    "conv4_rgb=tf.layers.conv2d(inputs=upsample1_rgb,filters=16,kernel_size=(3,3),padding='same',\n",
    "                       activation=tf.nn.relu)\n",
    "#now (batch,9,30,8)\n",
    "\n",
    "upsample2_rgb= tf.image.resize_images(conv4_rgb, size=(18,60),\n",
    "                                   method=tf.image.ResizeMethod.NEAREST_NEIGHBOR)\n",
    "#now (batch,18,60,8)\n",
    "out_rgb=tf.layers.conv2d(inputs=upsample2_rgb,filters=3,kernel_size=(3,3),padding='same',\n",
    "                       activation=tf.nn.relu)\n",
    "\n",
    "\n",
    "# define loss\n",
    "learning_rate=1e-4\n",
    "loss=(tf.nn.l2_loss(out_rgb-outputs_rgb)\n",
    "     +tf.nn.l2_loss(out_sem-outputs_sem)\n",
    "     +tf.nn.l2_loss(out_depth-outputs_depth)\n",
    "     )\n",
    "optimizer=tf.train.AdamOptimizer(learning_rate).minimize(loss)\n",
    "\n",
    "init=tf.global_variables_initializer()\n",
    "\n",
    "train_size=data_depth.shape[0]\n",
    "train_indices=range(train_size)   \n",
    "\n",
    "CNN_path=\"../CNN_full\"\n",
    "if not os.path.isdir(CNN_path):\n",
    "    os.mkdir(CNN_path)          \n",
    "saver=tf.train.Saver()\n",
    "\n",
    "\n",
    "with tf.Session() as sess:\n",
    "    saver.restore(sess,'CNN_full/cnn.ckpt')\n",
    "    l=sess.run(out_sem,feed_dict={inputs_depth:data_depth[0:1],\n",
    "                                                     outputs_depth:data_depth[0:1],\n",
    "                                                     inputs_rgb:data_rgb[0:1],\n",
    "                                                     outputs_rgb:data_rgb[0:1],\n",
    "                                                     inputs_sem:data_sem[0:1],\n",
    "                                                     outputs_sem:data_sem[0:1]\n",
    "                                                    })     \n",
    "\n"
   ]
  },
  {
   "cell_type": "code",
   "execution_count": 2,
   "metadata": {},
   "outputs": [],
   "source": [
    "%matplotlib inline"
   ]
  },
  {
   "cell_type": "code",
   "execution_count": 8,
   "metadata": {
    "collapsed": true
   },
   "outputs": [],
   "source": [
    "reconstruction=np.argmax(l,axis=3)"
   ]
  },
  {
   "cell_type": "code",
   "execution_count": 9,
   "metadata": {},
   "outputs": [
    {
     "data": {
      "text/plain": [
       "(1, 18, 60)"
      ]
     },
     "execution_count": 9,
     "metadata": {},
     "output_type": "execute_result"
    }
   ],
   "source": [
    "reconstruction.shape"
   ]
  },
  {
   "cell_type": "markdown",
   "metadata": {},
   "source": [
    "#  output reconstruction"
   ]
  },
  {
   "cell_type": "code",
   "execution_count": 10,
   "metadata": {},
   "outputs": [
    {
     "data": {
      "text/plain": [
       "<matplotlib.image.AxesImage at 0x1acfec2b0>"
      ]
     },
     "execution_count": 10,
     "metadata": {},
     "output_type": "execute_result"
    },
    {
     "data": {
      "image/png": "[encoded data removed]",
      "text/plain": [
       "<matplotlib.figure.Figure at 0x11b260630>"
      ]
     },
     "metadata": {},
     "output_type": "display_data"
    }
   ],
   "source": [
    "plt.imshow(reconstruction[0])"
   ]
  },
  {
   "cell_type": "code",
   "execution_count": 11,
   "metadata": {
    "collapsed": true
   },
   "outputs": [],
   "source": [
    "image=np.argmax(data_sem[0:1],axis=3)"
   ]
  },
  {
   "cell_type": "markdown",
   "metadata": {},
   "source": [
    "# input image "
   ]
  },
  {
   "cell_type": "code",
   "execution_count": 12,
   "metadata": {},
   "outputs": [
    {
     "data": {
      "text/plain": [
       "<matplotlib.image.AxesImage at 0x11b2606a0>"
      ]
     },
     "execution_count": 12,
     "metadata": {},
     "output_type": "execute_result"
    },
    {
     "data": {
      "image/png": "[encoded data removed]",
      "text/plain": [
       "<matplotlib.figure.Figure at 0x1b41b74e0>"
      ]
     },
     "metadata": {},
     "output_type": "display_data"
    }
   ],
   "source": [
    "plt.imshow(image[0])"
   ]
  },
  {
   "cell_type": "code",
   "execution_count": null,
   "metadata": {
    "collapsed": true
   },
   "outputs": [],
   "source": []
  }
 ],
 "metadata": {
  "kernelspec": {
   "display_name": "Python 3",
   "language": "python",
   "name": "python3"
  },
  "language_info": {
   "codemirror_mode": {
    "name": "ipython",
    "version": 3
   },
   "file_extension": ".py",
   "mimetype": "text/x-python",
   "name": "python",
   "nbconvert_exporter": "python",
   "pygments_lexer": "ipython3",
   "version": "3.6.2"
  }
 },
 "nbformat": 4,
 "nbformat_minor": 2
}
